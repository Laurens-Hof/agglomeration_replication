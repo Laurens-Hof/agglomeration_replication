 {
   "cell_type": "code",
   "execution_count": 1,
   "metadata": {
    "deletable": false,
    "nbgrader": {
     "checksum": "3dd4c02198f7b81f943268cb3d0a12b2",
     "grade": true,
     "grade_id": "cell-a2231ee7e6d4e686",
     "locked": false,
     "points": 7,
     "schema_version": 1,
     "solution": true
    }
   },
   "outputs": [],
   "source": [
    "import matplotlib.pyplot as plt\n",
    "import matplotlib.patches as mpatch\n",
    "import pandas as pd\n",
    "import numpy as np\n",
    "import statsmodels.formula.api as smf\n",
    "import eurostat\n",
    "from linearmodels.iv import IV2SLS"
   ]
  },
  {
   "cell_type": "markdown",
   "metadata": {},
   "source": [
    "# Research question and motivation"
   ]
  },
  {
   "cell_type": "markdown",
   "metadata": {
    "deletable": false,
    "nbgrader": {
     "checksum": "b350c3082e112a5b2f1f6db0481fa5bd",
     "grade": true,
     "grade_id": "cell-7a61a5e9e6991ff4",
     "locked": false,
     "points": 0.5,
     "schema_version": 1,
     "solution": true
    }
   },
   "source": [
    "I am going to replicate [a 2002 paper by Antonio Ciccone](https://doi.org/10.1016/S0014-2921(00)00099-4), which tries to measure the size of agglomeration efficiencies in Europe. It does this by regressing labor productivity on density of employment for NUTS-3 areas in selected European countries, using land area as an instrumental variable."
   ]
  },
  {
   "cell_type": "markdown",
   "metadata": {
    "deletable": false,
    "nbgrader": {
     "checksum": "ab93f4d26eb3e0bcf88927ee71df6b63",
     "grade": true,
     "grade_id": "cell-3d71712c92143820",
     "locked": false,
     "points": 0.5,
     "schema_version": 1,
     "solution": true
    }
   },
   "source": [
    "This question is interesting because urban density has long been touted as one of the primary drivers of prosperity for developed [(Rosenthal and Strange, 2004)](https://doi.org/10.1016/S1574-0080(04)80006-3) and developing [(Dorosh and Thurlow, 2014)](https://doi.org/10.1016/j.worlddev.2013.10.014) countries alike, as well as in historical contexts [(Jedwab and Vollrath, 2015)](https://doi.org/10.1016/j.eeh.2015.09.002). It is therefore very relevant to policy to have an unbiased and up-to-date estimate of the size of this effect. The original paper was published in 2002 and uses data from the late 1980's, which can raise doubts as to whether the conclusions still hold today. However, replicating it is relatively straightforward since almost all the necessary data are made freely available by Eurostat."
   ]
  },
  {
   "cell_type": "markdown",
   "metadata": {},
   "source": [
    "# Method and assumptions"
   ]
  },
  {
   "cell_type": "markdown",
   "metadata": {
    "deletable": false,
    "nbgrader": {
     "checksum": "84c7d0d85d8fb5e0073f3053f9bedf5a",
     "grade": true,
     "grade_id": "cell-8cbf4938fbebbb6e",
     "locked": false,
     "points": 0.5,
     "schema_version": 1,
     "solution": true
    }
   },
   "source": [
    "I follow the original author in their set-up. They derive their estimating equation from the following specification of a production function for a unit of land:\n",
    "\n",
    "$q = \\Omega_{sc} \\left(\\left(nH\\right)^\\beta k^{1-\\beta}\\right)^\\alpha \\left(\\frac{Q_{sc}}{A_{sc}}\\right)^{(\\lambda - 1)/\\lambda}$\n",
    "\n",
    "where $0\\leq\\beta\\leq1$ and $0\\leq\\alpha\\leq1$\n",
    "\n",
    "Here, $q$ denotes the output produced on the unit of land. $\\Omega_{sc}$ denotes unexplained total factor productivity for region $s$ within country (or larger region) $c$. $n$ is the number of workers on the unit of land and $H$ is their average human capital. $k$ is the amount of physical capital employed. $Q_{sc}$ and $A_{sc}$ are supposed to be the source of the agglomeration effects: they denote total production and total land in the region respectively, again for region $s$ within country $c$.\n",
    "\n",
    "The specific form of this production function contains some assumptions that were likely chosen for convenience, but which are not very controversial. At its core it is a very standard Cobb-Douglas production function with labor-enhancing human capital. $\\alpha$ captures the returns to capital and labor on the unit of land, which are distributed according to $\\beta\\$. The first step towards turning this production function into an estimable equation is the (rather strong) assumption that capital and labor are distributed among the units of land in the region. Then,\n",
    "\n",
    "$Q_{sc} = A_{sc} q$\n",
    "\n",
    "which, after substituting the first equation and solving for average labor productivity yields:\n",
    "\n",
    "$\\frac{Q_{sc}}{N_{sc}} = \\Omega^\\lambda \\left( H_{sc}^\\beta \\left(\\frac{K_{sc}}{N_{sc}}\\right)^{1-\\beta}\\right)^{\\alpha\\lambda} \\left( \\frac{N_{sc}} {A_{sc}} \\right) ^{\\alpha\\lambda - 1}$\n",
    "\n",
    "This equation only uses local aggregates as variables: $K_{sc}$ and $N_{sc}$ are total capital and total amount of workers within area $s$, respectively.\n",
    "\n",
    "This equation requires information on the capital density within each area, which is not available. However, this problem can be circumvented by assuming that the rental rate of capital, $r$, is equal across a country. Then, assuming that capital gets hired until the market clears, we can use capital demand as a substitute. This is equal to:\n",
    "\n",
    "$K_{sc} = \\frac {\\alpha \\left(1 - \\beta \\right)}{r_c} Q_{sc}$\n",
    "\n",
    "If we use this as a proxy for actual employed capital, the expression for average labor productivity becomes:\n",
    "\n",
    "$\\frac{Q_{sc}} {N_{sc}} = \\Lambda_c \\Omega_{sc} H_{sc} \\left( \\frac{N_{sc} H_{sc}} {A_{sc}}\\right) ^\\theta$\n",
    "\n",
    "Here, $\\Lambda_c$ depends on the country-wide rental rate of capital, and the convenient thing is that it can be accounted for using country-level fixed effects. This is very close the estimating equation, and the new variable is $\\theta$. This is the coefficient we are going to be estimating, and it is what is capturing the agglomeration effects. It is given by:\n",
    "\n",
    "$\\theta = \\frac{\\alpha \\lambda -1} {1 - \\alpha \\lambda \\left(1 - \\beta \\right)}$\n",
    "\n",
    "$\\theta$ measures the manner in which the density of human capital and employment affect local labor productivity. It should be thought of as a \"net agglomeration effect\", in the sense that it is determined by the product of $\\alpha$ and $\\lambda$. $\\lambda$ captures the extent to which density of production increases production efficiency, while $\\alpha$ captures the extent to which there are diminishing returns to capital and labor within a unit of land. If this product is smaller than 1, $\\theta$ is negative and increasing density reduces average labor productivity declines with employment density. If the product is equal to 1, $\\theta$ is 0 and employment density is irrelevant. Finally, if $\\alpha \\lambda$ is greater than 1, it is positive and employment density increases regional labor productivity.\n",
    "\n",
    "It should be emphasized that $\\theta$ measures the effect of employment density on local **labor productivity**, not total factor productivity. A good way to think about it is to conceptualize $\\theta$ as the \"net agglomeration effect *after capital arbitrage*\". After all, we our assumptions until this point imply that capital moves to the places where it can be employed most productively. As a consequence, the magnitude of $\\theta$ becomes larger as $\\beta$ (the relative productivity of labor) becomes smaller. One might ask why labor does not move to its most productive location. The easiest answer to this is that workers apparently experience amenities in less dense places, or disamenities in denser places (congestion, pollution, etc.). It could also be that workers are compensated in the form of lower-cost housing.\n",
    "\n",
    "Taking logs of the capital-corrected average productivity expression implies that:\n",
    "\n",
    "$\\ln Q_{sc} - \\ln N_{sc} = \\ln \\Lambda_c + \\theta \\left(\\ln N_{sc} - \\ln A_{sc} \\right) + (\\theta + 1) \\ln H_{sc} + \\ln \\Omega_{sc}$\n",
    "\n",
    "Which yields the estimation equation:\n",
    "\n",
    "$\\ln Q_{sc} - \\ln N_{sc} = \\theta_0 + \\theta_1 \\left(\\ln N_{sc} - \\ln A_{sc} \\right) + \\delta_1 W_{sc} + \\delta_2 Z + \\varepsilon_{sc}$\n",
    "\n",
    "Where $W$ is a collection of coefficients for each level of education, indicating which fraction of the population has attained that level of education, and Z is a set of country-level fixed effects. Since this is a log-log regression, $\\theta_1$ can be interpreted as an elasticity: \"if employment density increases by 1 percent, this will have an x percent increase/decrease in labor productivity as a consequence\"."
   ]
  },
  {
   "cell_type": "markdown",
   "metadata": {
    "deletable": false,
    "nbgrader": {
     "checksum": "938eb25dc709a2252d7013dc1cd8176a",
     "grade": true,
     "grade_id": "cell-1b3df4385bba508d",
     "locked": false,
     "points": 0.5,
     "schema_version": 1,
     "solution": true
    }
   },
   "source": [
    "# Data\n",
    "\n",
    "The data I will use comes from the Eurostat regio database, which provides statistics for subnational regions (\"NUTS-regions\", for \"*Nomenclature des Unités Territoriales Statistiques*\" or \"Nomenclature of Territorial Units for Statistics\") in the EFTA and potential members states. Like the original author, I will use data on the NUTS-3 level for Germany, the UK, Italy and Spain. The original paper includes France, but I have omitted it since there do not seem to be employment data available at the NUTS-3 level for France. NUTS-3 regions correspond to *kreise* in Germany, *counties* in the UK, *provincie* in Italy and *provincias* in Spain (or COROP-regions in the Netherlands).\n",
    "\n",
    "This setup has some reverse causality problems: is production more efficient because it is close together, or does production cluster because it is more productive in that place? The author addresses this by selecting countries for which the NUTS-3 divisions are historically predetermined, and then using land area as an instrumental variable, since it turns out that land area and employment density are negatively correlated.The explanation the author posits is that, since the historical divisions were usually made for administrative purposes, which made it \"common sense\" to roughly equalize population size across regions. This caused a negative correlation between land area and population density, which in turn persisted to the present day in causing a negative correlation between area and employment density.\n",
    "\n",
    "The argument for exclusion of this instrument rests on the supposition that late 19th century population density has no effect on current-day productivity, except through its effect on current-day employment density. While several papers on the long run persistence historical effects (such as [Dell 2010](https://doi.org/10.3982/ECTA8121) or [Bartels, Jaeger and Obergruber 2020](https://papers.ssrn.com/sol3/papers.cfm?abstract_id=3753140)), they are typically theorized to work either through institutional mechanisms or cultural attitudes, both of which can be expected to stongly be dampened by the country-level fixed effects. My IV will then look like this:\n",
    "\n",
    "$Y_{sc} = \\theta_0 + \\theta_1 \\widehat{X_{sc}}\\left(A_{sc}\\right) + \\delta_1 W_{sc} + \\delta_2 Z + \\varepsilon_{sc}$\n",
    "\n",
    "Where $X$ is the difference in the log of employment and the log of area in that area, with the hat indicating that I use the fitted values resulting from regressing it on area. $Y$ is the difference in log added value and log employment, indicating labor productivity."
   ]
  },
  {
   "cell_type": "markdown",
   "metadata": {},
   "source": [
    "# Preview of the answers"
   ]
  },
  {
   "cell_type": "markdown",
   "metadata": {
    "deletable": false,
    "nbgrader": {
     "checksum": "2e95c3f2ef005a63968a0ade420f5af7",
     "grade": true,
     "grade_id": "cell-d84f19967b2baa1d",
     "locked": false,
     "points": 0.5,
     "schema_version": 1,
     "solution": true
    }
   },
   "source": [
    "Multiple different specifications fail to reject the null hypothesis at the 0.05 threshold. Whereas the original paper found a 2SLS point estimate of 0.0455, mine is 0.0092 with and upper bound of 0.0213. My naive OLS estimate is different, too: 0.027 vs 0.05."
   ]
  },
  {
   "cell_type": "markdown",
   "metadata": {},
   "source": [
    "# Python code"
   ]
  },
  {
   "cell_type": "markdown",
   "metadata": {},
   "source": [
    "### Importing data\n",
    "\n",
    "The \"eurostat\" package contains a convenient set of wrapper functions for retrieving eurostat data. I need data on:\n",
    "- Land area of each NUTS-3 region. This is our instrumental variable.\n",
    "- Value added in each NUTS-3 region, in current market prices. This is our dependent variable. We want to exlcude the agricultural sector from this measure. This is a lot easier in my replication than in the original paper, since now Eurostat has data available subdividing value added by top-level NACE indicator.\n",
    "- Employment per NUTS-3 region. Again, it is simple to exclude agriculture.\n",
    "- Education per NUTS-3 region. I have not been able to find a database of employment by education at NUTS-3 level, or even of population by education. There *is* data available on employment by education by NUTS-2 level, so a very crude solution is to make the (strong) assumption that average education level is spread evenly throughout each NUTS-2 region."
   ]
  },
  {
   "cell_type": "code",
   "execution_count": 2,
   "metadata": {},
   "outputs": [],
   "source": [
    "#area\n",
    "area = eurostat.get_data_df(\"reg_area3\")\n",
    "#value added\n",
    "va_NUTS3 = eurostat.get_data_df(\"nama_10r_3gva\")\n",
    "#employment\n",
    "empl_NUTS3 = eurostat.get_data_df(\"nama_10r_3empers\")\n",
    "#employment by education\n",
    "educ_NUTS2 = eurostat.get_data_df(\"lfst_r_lfe2eedu\")"
   ]
  },
  {
   "cell_type": "markdown",
   "metadata": {},
   "source": [
    "### Collecting NUTS codes\n",
    "\n",
    "I have downloaded a list of NUTS codes along with the names of the regions. Firstly, I need to read it in from the csv file."
   ]
  },
  {
   "cell_type": "code",
   "execution_count": 3,
   "metadata": {},
   "outputs": [],
   "source": [
    "codes = pd.read_csv(\"NUTS3.csv\")"
   ]
  },
  {
   "cell_type": "markdown",
   "metadata": {},
   "source": [
    "Step 2: basic sifting. Only keep those countries we will be analyzing, and get rid of \"extra regions\""
   ]
  },
  {
   "cell_type": "code",
   "execution_count": 4,
   "metadata": {},
   "outputs": [],
   "source": [
    "#create the list of country codes I will be analyzing\n",
    "countrylist = [\"DE\", \"ES\", \"IT\", \"UK\"]\n",
    "#select those rows of \"codes\" for which the first two symbols of the NUTS code are equal to any of the country codes\n",
    "# in the list\n",
    "codes = codes[sum([codes[\"NUTS-Code\"].str[:2] == c for c in countrylist]) == 1]\n",
    "#drop the \"extra regions\", whose code ends with \"Z\"\n",
    "codes = codes[codes[\"NUTS-Code\"].str[-1] != \"Z\"]"
   ]
  },
  {
   "cell_type": "markdown",
   "metadata": {},
   "source": [
    "We want to exclude overseas territories and \"outermost regions\". I have manually created a list of which\n",
    "level 2 codes belong to overseas territories. There are no level 3 overseas codes that are under a non-overseas\n",
    "level 2 code."
   ]
  },
  {
   "cell_type": "code",
   "execution_count": 5,
   "metadata": {},
   "outputs": [],
   "source": [
    "overseas = [\"ES70\"]\n",
    "\n",
    "#apply the same idea as with selecting the countries, except now we are excluding those rows that meet the criteria\n",
    "codes = codes[sum([codes[\"NUTS-Code\"].str[:4] == c for c in overseas]) == 0]"
   ]
  },
  {
   "cell_type": "markdown",
   "metadata": {},
   "source": [
    "Find the codes that correspond to NUTS-3 regions. Unfortunately, using the \"level\" variable does not work, since it also includes some higher-level aggregates."
   ]
  },
  {
   "cell_type": "code",
   "execution_count": 6,
   "metadata": {},
   "outputs": [],
   "source": [
    "#select only the NUTS3 regions, which have a 5-character code.\n",
    "level3 = codes[codes[\"NUTS-Code\"].apply(len) == 5]\n",
    "\n",
    "#select only the NUTS2 regions, which have a 4-character code\n",
    "level2 = codes[codes[\"NUTS-Code\"].apply(len) == 4]"
   ]
  },
  {
   "cell_type": "markdown",
   "metadata": {},
   "source": [
    "Finally, convert the columns containing NUTS codes to lists, so that when filtering our actual data it is easier to check against."
   ]
  },
  {
   "cell_type": "code",
   "execution_count": 7,
   "metadata": {},
   "outputs": [],
   "source": [
    "NUTS3_selected = level3[\"NUTS-Code\"].tolist()\n",
    "NUTS2_selected = level2[\"NUTS-Code\"].tolist()"
   ]
  },
  {
   "cell_type": "markdown",
   "metadata": {},
   "source": [
    "### Importing and shaping data\n",
    "\n",
    "#### Data shaping: area\n",
    "\n",
    "Area will be the \"base\" dataframe from which I will build my actual dataset.\n",
    "\n",
    "Firstly, I keep only the values labeled \"L0008\". Contrary to the values labeled \"TOTAL\", this only includes land area. Secondly, keep only the regions I want to examine. Next, I will append two columns to the dataframe, indicating the country code and NUTS-2 code corresponding to the area, respectively. I will need this later to implement fixed effects."
   ]
  },
  {
   "cell_type": "code",
   "execution_count": 8,
   "metadata": {},
   "outputs": [],
   "source": [
    "#keep only the L0008 values\n",
    "area = area[area[\"landuse\"] == \"L0008\"]\n",
    "#drop unused NUTS3 codes\n",
    "area = area[area.iloc[:, 2].isin(NUTS3_selected)]\n",
    "#add country code\n",
    "area[\"country\"] = area.iloc[:, 2].str[:2]\n",
    "#add NUTS2 code\n",
    "area[\"NUTS2\"] = area.iloc[:, 2].str[:4]"
   ]
  },
  {
   "cell_type": "markdown",
   "metadata": {},
   "source": [
    "I have two observations for area: one in 2013 and one in 2016, of which I will use the 2013 column since it has no missing values."
   ]
  },
  {
   "cell_type": "code",
   "execution_count": 9,
   "metadata": {},
   "outputs": [
    {
     "data": {
      "text/plain": [
       "0"
      ]
     },
     "execution_count": 9,
     "metadata": {},
     "output_type": "execute_result"
    }
   ],
   "source": [
    "sum(area[2013].isna())"
   ]
  },
  {
   "cell_type": "code",
   "execution_count": 10,
   "metadata": {},
   "outputs": [
    {
     "data": {
      "text/plain": [
       "25"
      ]
     },
     "execution_count": 10,
     "metadata": {},
     "output_type": "execute_result"
    }
   ],
   "source": [
    "sum(area[2016].isna())"
   ]
  },
  {
   "cell_type": "markdown",
   "metadata": {},
   "source": [
    "I will also drop other unnecessary columns, and rename the remaining ones. To this, I will append my other variables."
   ]
  },
  {
   "cell_type": "code",
   "execution_count": 11,
   "metadata": {
    "scrolled": false
   },
   "outputs": [
    {
     "data": {
      "text/html": [
       "<div>\n",
       "<style scoped>\n",
       "    .dataframe tbody tr th:only-of-type {\n",
       "        vertical-align: middle;\n",
       "    }\n",
       "\n",
       "    .dataframe tbody tr th {\n",
       "        vertical-align: top;\n",
       "    }\n",
       "\n",
       "    .dataframe thead th {\n",
       "        text-align: right;\n",
       "    }\n",
       "</style>\n",
       "<table border=\"1\" class=\"dataframe\">\n",
       "  <thead>\n",
       "    <tr style=\"text-align: right;\">\n",
       "      <th></th>\n",
       "      <th>NUTS3</th>\n",
       "      <th>area_km2</th>\n",
       "      <th>country</th>\n",
       "      <th>NUTS2</th>\n",
       "    </tr>\n",
       "  </thead>\n",
       "  <tbody>\n",
       "    <tr>\n",
       "      <th>210</th>\n",
       "      <td>DE111</td>\n",
       "      <td>206.0</td>\n",
       "      <td>DE</td>\n",
       "      <td>DE11</td>\n",
       "    </tr>\n",
       "    <tr>\n",
       "      <th>211</th>\n",
       "      <td>DE112</td>\n",
       "      <td>618.0</td>\n",
       "      <td>DE</td>\n",
       "      <td>DE11</td>\n",
       "    </tr>\n",
       "    <tr>\n",
       "      <th>212</th>\n",
       "      <td>DE113</td>\n",
       "      <td>641.0</td>\n",
       "      <td>DE</td>\n",
       "      <td>DE11</td>\n",
       "    </tr>\n",
       "    <tr>\n",
       "      <th>213</th>\n",
       "      <td>DE114</td>\n",
       "      <td>642.0</td>\n",
       "      <td>DE</td>\n",
       "      <td>DE11</td>\n",
       "    </tr>\n",
       "    <tr>\n",
       "      <th>214</th>\n",
       "      <td>DE115</td>\n",
       "      <td>685.0</td>\n",
       "      <td>DE</td>\n",
       "      <td>DE11</td>\n",
       "    </tr>\n",
       "    <tr>\n",
       "      <th>...</th>\n",
       "      <td>...</td>\n",
       "      <td>...</td>\n",
       "      <td>...</td>\n",
       "      <td>...</td>\n",
       "    </tr>\n",
       "    <tr>\n",
       "      <th>2177</th>\n",
       "      <td>UKN01</td>\n",
       "      <td>109.0</td>\n",
       "      <td>UK</td>\n",
       "      <td>UKN0</td>\n",
       "    </tr>\n",
       "    <tr>\n",
       "      <th>2178</th>\n",
       "      <td>UKN02</td>\n",
       "      <td>839.0</td>\n",
       "      <td>UK</td>\n",
       "      <td>UKN0</td>\n",
       "    </tr>\n",
       "    <tr>\n",
       "      <th>2179</th>\n",
       "      <td>UKN03</td>\n",
       "      <td>3137.0</td>\n",
       "      <td>UK</td>\n",
       "      <td>UKN0</td>\n",
       "    </tr>\n",
       "    <tr>\n",
       "      <th>2180</th>\n",
       "      <td>UKN04</td>\n",
       "      <td>3217.0</td>\n",
       "      <td>UK</td>\n",
       "      <td>UKN0</td>\n",
       "    </tr>\n",
       "    <tr>\n",
       "      <th>2181</th>\n",
       "      <td>UKN05</td>\n",
       "      <td>6260.0</td>\n",
       "      <td>UK</td>\n",
       "      <td>UKN0</td>\n",
       "    </tr>\n",
       "  </tbody>\n",
       "</table>\n",
       "<p>683 rows × 4 columns</p>\n",
       "</div>"
      ],
      "text/plain": [
       "      NUTS3  area_km2 country NUTS2\n",
       "210   DE111     206.0      DE  DE11\n",
       "211   DE112     618.0      DE  DE11\n",
       "212   DE113     641.0      DE  DE11\n",
       "213   DE114     642.0      DE  DE11\n",
       "214   DE115     685.0      DE  DE11\n",
       "...     ...       ...     ...   ...\n",
       "2177  UKN01     109.0      UK  UKN0\n",
       "2178  UKN02     839.0      UK  UKN0\n",
       "2179  UKN03    3137.0      UK  UKN0\n",
       "2180  UKN04    3217.0      UK  UKN0\n",
       "2181  UKN05    6260.0      UK  UKN0\n",
       "\n",
       "[683 rows x 4 columns]"
      ]
     },
     "execution_count": 11,
     "metadata": {},
     "output_type": "execute_result"
    }
   ],
   "source": [
    "#subset columns\n",
    "maindata1 = area.iloc[:, [2, 4, 5, 6]]\n",
    "#rename columns\n",
    "maindata1.columns.values[0] = \"NUTS3\"\n",
    "maindata1.columns.values[1] = \"area_km2\"\n",
    "maindata1"
   ]
  },
  {
   "cell_type": "markdown",
   "metadata": {},
   "source": [
    "#### Data shaping: employment\n",
    "\n",
    "The first steps will be to keep only the data for 2013 (to be consistent with the area data) and the data for the relevant NUTS-3 regions. I will only keep the rows labeled \"EMP\", which indicates employed persons rather than employees."
   ]
  },
  {
   "cell_type": "code",
   "execution_count": 12,
   "metadata": {},
   "outputs": [],
   "source": [
    "#filter relevant NUTS3\n",
    "empl_NUTS3 = empl_NUTS3[empl_NUTS3[\"geo\\\\time\"].isin(NUTS3_selected)]\n",
    "#filter employed persons\n",
    "empl_NUTS3 = empl_NUTS3[empl_NUTS3[\"wstatus\"] == \"EMP\"]\n",
    "#filter all years except 2013\n",
    "empl_NUTS3 = empl_NUTS3[[\"nace_r2\", \"geo\\\\time\", 2013]]"
   ]
  },
  {
   "cell_type": "markdown",
   "metadata": {},
   "source": [
    "Then, I will need to remove agriculture from my employment data. The easiest way to do this I can think of is to pivot the NACE classifications into the columns and then subtract the \"A\" column from the \"TOTAL\" column. In-between those steps, I will substitute zeroes for the 13 missing values in agriculture so that they will not \"infect\" the subtraction. Since \"TOTAL\" has no missing values and all NA's for agriculture are in metropolitan regions, I think this can be done without biasing the results."
   ]
  },
  {
   "cell_type": "code",
   "execution_count": 13,
   "metadata": {},
   "outputs": [],
   "source": [
    "#pivot\n",
    "empl_NUTS3_pivoted = empl_NUTS3.pivot(index = \"geo\\\\time\", columns = \"nace_r2\", values = 2013)\n",
    "#set NA's to 0\n",
    "empl_NUTS3_pivoted[\"A\"][empl_NUTS3_pivoted[\"A\"].isna()] = 0\n",
    "#subtract columns\n",
    "empl_NUTS3_pivoted[\"empl_ths\"] = empl_NUTS3_pivoted[\"TOTAL\"] - empl_NUTS3_pivoted[\"A\"]"
   ]
  },
  {
   "cell_type": "markdown",
   "metadata": {},
   "source": [
    "Finally, I will add the employment data to the main dataset by joining on NUTS3."
   ]
  },
  {
   "cell_type": "code",
   "execution_count": 14,
   "metadata": {},
   "outputs": [
    {
     "data": {
      "text/html": [
       "<div>\n",
       "<style scoped>\n",
       "    .dataframe tbody tr th:only-of-type {\n",
       "        vertical-align: middle;\n",
       "    }\n",
       "\n",
       "    .dataframe tbody tr th {\n",
       "        vertical-align: top;\n",
       "    }\n",
       "\n",
       "    .dataframe thead th {\n",
       "        text-align: right;\n",
       "    }\n",
       "</style>\n",
       "<table border=\"1\" class=\"dataframe\">\n",
       "  <thead>\n",
       "    <tr style=\"text-align: right;\">\n",
       "      <th></th>\n",
       "      <th>NUTS3</th>\n",
       "      <th>country</th>\n",
       "      <th>NUTS2</th>\n",
       "      <th>area_km2</th>\n",
       "      <th>empl_ths</th>\n",
       "    </tr>\n",
       "  </thead>\n",
       "  <tbody>\n",
       "    <tr>\n",
       "      <th>0</th>\n",
       "      <td>DE111</td>\n",
       "      <td>DE</td>\n",
       "      <td>DE11</td>\n",
       "      <td>206.0</td>\n",
       "      <td>497.17</td>\n",
       "    </tr>\n",
       "    <tr>\n",
       "      <th>1</th>\n",
       "      <td>DE112</td>\n",
       "      <td>DE</td>\n",
       "      <td>DE11</td>\n",
       "      <td>618.0</td>\n",
       "      <td>219.76</td>\n",
       "    </tr>\n",
       "    <tr>\n",
       "      <th>2</th>\n",
       "      <td>DE113</td>\n",
       "      <td>DE</td>\n",
       "      <td>DE11</td>\n",
       "      <td>641.0</td>\n",
       "      <td>262.50</td>\n",
       "    </tr>\n",
       "    <tr>\n",
       "      <th>3</th>\n",
       "      <td>DE114</td>\n",
       "      <td>DE</td>\n",
       "      <td>DE11</td>\n",
       "      <td>642.0</td>\n",
       "      <td>118.33</td>\n",
       "    </tr>\n",
       "    <tr>\n",
       "      <th>4</th>\n",
       "      <td>DE115</td>\n",
       "      <td>DE</td>\n",
       "      <td>DE11</td>\n",
       "      <td>685.0</td>\n",
       "      <td>247.91</td>\n",
       "    </tr>\n",
       "    <tr>\n",
       "      <th>...</th>\n",
       "      <td>...</td>\n",
       "      <td>...</td>\n",
       "      <td>...</td>\n",
       "      <td>...</td>\n",
       "      <td>...</td>\n",
       "    </tr>\n",
       "    <tr>\n",
       "      <th>653</th>\n",
       "      <td>UKM62</td>\n",
       "      <td>UK</td>\n",
       "      <td>UKM6</td>\n",
       "      <td>7822.0</td>\n",
       "      <td>80.00</td>\n",
       "    </tr>\n",
       "    <tr>\n",
       "      <th>654</th>\n",
       "      <td>UKM63</td>\n",
       "      <td>UK</td>\n",
       "      <td>UKM6</td>\n",
       "      <td>14247.0</td>\n",
       "      <td>45.00</td>\n",
       "    </tr>\n",
       "    <tr>\n",
       "      <th>655</th>\n",
       "      <td>UKM64</td>\n",
       "      <td>UK</td>\n",
       "      <td>UKM6</td>\n",
       "      <td>3059.0</td>\n",
       "      <td>10.00</td>\n",
       "    </tr>\n",
       "    <tr>\n",
       "      <th>656</th>\n",
       "      <td>UKM65</td>\n",
       "      <td>UK</td>\n",
       "      <td>UKM6</td>\n",
       "      <td>989.0</td>\n",
       "      <td>10.00</td>\n",
       "    </tr>\n",
       "    <tr>\n",
       "      <th>657</th>\n",
       "      <td>UKM66</td>\n",
       "      <td>UK</td>\n",
       "      <td>UKM6</td>\n",
       "      <td>1466.0</td>\n",
       "      <td>14.00</td>\n",
       "    </tr>\n",
       "  </tbody>\n",
       "</table>\n",
       "<p>658 rows × 5 columns</p>\n",
       "</div>"
      ],
      "text/plain": [
       "     NUTS3 country NUTS2  area_km2  empl_ths\n",
       "0    DE111      DE  DE11     206.0    497.17\n",
       "1    DE112      DE  DE11     618.0    219.76\n",
       "2    DE113      DE  DE11     641.0    262.50\n",
       "3    DE114      DE  DE11     642.0    118.33\n",
       "4    DE115      DE  DE11     685.0    247.91\n",
       "..     ...     ...   ...       ...       ...\n",
       "653  UKM62      UK  UKM6    7822.0     80.00\n",
       "654  UKM63      UK  UKM6   14247.0     45.00\n",
       "655  UKM64      UK  UKM6    3059.0     10.00\n",
       "656  UKM65      UK  UKM6     989.0     10.00\n",
       "657  UKM66      UK  UKM6    1466.0     14.00\n",
       "\n",
       "[658 rows x 5 columns]"
      ]
     },
     "execution_count": 14,
     "metadata": {},
     "output_type": "execute_result"
    }
   ],
   "source": [
    "#join with maindata:\n",
    "maindata2 = pd.merge(maindata1, empl_NUTS3_pivoted, left_on = \"NUTS3\", right_on = \"geo\\\\time\")\n",
    "#shave off unnecessary columns:\n",
    "maindata2 = maindata2[[\"NUTS3\", \"country\", \"NUTS2\", \"area_km2\", \"empl_ths\"]]\n",
    "maindata2"
   ]
  },
  {
   "cell_type": "markdown",
   "metadata": {},
   "source": [
    "#### Data shaping: education\n",
    "\n",
    "Education data is only provided at the NUTS-2 level, and as absolute numbers of employed instead of frations. However, the first steps are similar to the previous two datasets: drop all unused years and regions. I will also drop the \"not reported\" category, since that is not an education level. Additionally, I can also get rid of the \"sex\" variable since there is no reason to expect the agglomeration effect to be different. I also select only the columns concerning all employed persons 15 and over, indicated by \"Y_GE15\"."
   ]
  },
  {
   "cell_type": "code",
   "execution_count": 15,
   "metadata": {},
   "outputs": [],
   "source": [
    "#filter relevant NUTS2\n",
    "educ_NUTS2 = educ_NUTS2[educ_NUTS2[\"geo\\\\time\"].isin(NUTS2_selected)]\n",
    "#filter out sex-specific columns\n",
    "educ_NUTS2 = educ_NUTS2[educ_NUTS2[\"sex\"] == \"T\"]\n",
    "#filter out age-specific columns\n",
    "educ_NUTS2 = educ_NUTS2[educ_NUTS2[\"age\"] == \"Y_GE15\"]\n",
    "#drop not reported:\n",
    "educ_NUTS2 = educ_NUTS2[educ_NUTS2[\"isced11\"] != \"NRP\"]"
   ]
  },
  {
   "cell_type": "markdown",
   "metadata": {},
   "source": [
    "There are 16 missing values, evenly spread among the four categories. It turns out that there are only four regions that each have a missing value in all four categories."
   ]
  },
  {
   "cell_type": "code",
   "execution_count": 16,
   "metadata": {},
   "outputs": [
    {
     "data": {
      "text/plain": [
       "ED3_4    4\n",
       "TOTAL    4\n",
       "ED0-2    4\n",
       "ED5-8    4\n",
       "Name: isced11, dtype: int64"
      ]
     },
     "execution_count": 16,
     "metadata": {},
     "output_type": "execute_result"
    }
   ],
   "source": [
    "educ_NUTS2[\"isced11\"][educ_NUTS2[2013].isna()].value_counts()"
   ]
  },
  {
   "cell_type": "markdown",
   "metadata": {},
   "source": [
    "I will use the interpolate() method to try to fill in some of the values. I use backward interpolation (since the data are ordered 2019 to 1999 from left to right) and a limit of 2. This will successfully fill eight of the sixteen NA's. The others I will drop."
   ]
  },
  {
   "cell_type": "code",
   "execution_count": 17,
   "metadata": {},
   "outputs": [
    {
     "data": {
      "text/plain": [
       "ED3_4    2\n",
       "TOTAL    2\n",
       "ED0-2    2\n",
       "ED5-8    2\n",
       "Name: isced11, dtype: int64"
      ]
     },
     "execution_count": 17,
     "metadata": {},
     "output_type": "execute_result"
    }
   ],
   "source": [
    "educ_NUTS2.loc[:, 2019:1999] = educ_NUTS2.loc[:, 2019:1999].interpolate(axis = 1, limit = 2, limit_direction = \"backward\")\n",
    "educ_NUTS2[\"isced11\"][educ_NUTS2[2013].isna()].value_counts()"
   ]
  },
  {
   "cell_type": "code",
   "execution_count": 18,
   "metadata": {},
   "outputs": [],
   "source": [
    "#drop remaining NA's\n",
    "educ_NUTS2 = educ_NUTS2[educ_NUTS2[2013].isna() == False]\n",
    "#drop all years except 2013\n",
    "educ_NUTS2 = educ_NUTS2[[\"isced11\", \"geo\\\\time\", 2013]]"
   ]
  },
  {
   "cell_type": "markdown",
   "metadata": {},
   "source": [
    "Next, I need to be able to create a proportion of employed with each education level for each NUTS-2 region. Again I will use a pivot. Afterards I will create the proportions of the population by dividing it by the total of persons employed within the region. I finish with renaming the education levels, since a including a variable named \"ED0-2\" will disrupt a regression due to the hyphen being interpreted as a minus sign."
   ]
  },
  {
   "cell_type": "code",
   "execution_count": 19,
   "metadata": {},
   "outputs": [],
   "source": [
    "#pivot education levels into columns\n",
    "educ_pivoted = educ_NUTS2.pivot(index = \"geo\\\\time\", columns = \"isced11\", values = 2013)\n",
    "\n",
    "#divide by total using a for loop:\n",
    "for level in [\"ED0-2\", \"ED3_4\", \"ED5-8\"]:\n",
    "    educ_pivoted[level] = educ_pivoted[level]/educ_pivoted[\"TOTAL\"]\n",
    "\n",
    "#drop total: we don't need it anymore\n",
    "educ_pivoted = educ_pivoted.drop(columns = [\"TOTAL\"])\n",
    "\n",
    "#rename columns\n",
    "educ_pivoted.rename(columns = {\"ED0-2\":\"ED0_2\", \"ED5-8\":\"ED5_8\"}, inplace = True)"
   ]
  },
  {
   "cell_type": "markdown",
   "metadata": {},
   "source": [
    "Again, I merge with the main dataset."
   ]
  },
  {
   "cell_type": "code",
   "execution_count": 20,
   "metadata": {
    "scrolled": true
   },
   "outputs": [
    {
     "data": {
      "text/html": [
       "<div>\n",
       "<style scoped>\n",
       "    .dataframe tbody tr th:only-of-type {\n",
       "        vertical-align: middle;\n",
       "    }\n",
       "\n",
       "    .dataframe tbody tr th {\n",
       "        vertical-align: top;\n",
       "    }\n",
       "\n",
       "    .dataframe thead th {\n",
       "        text-align: right;\n",
       "    }\n",
       "</style>\n",
       "<table border=\"1\" class=\"dataframe\">\n",
       "  <thead>\n",
       "    <tr style=\"text-align: right;\">\n",
       "      <th></th>\n",
       "      <th>NUTS3</th>\n",
       "      <th>country</th>\n",
       "      <th>NUTS2</th>\n",
       "      <th>area_km2</th>\n",
       "      <th>empl_ths</th>\n",
       "      <th>ED0_2</th>\n",
       "      <th>ED3_4</th>\n",
       "      <th>ED5_8</th>\n",
       "    </tr>\n",
       "  </thead>\n",
       "  <tbody>\n",
       "    <tr>\n",
       "      <th>0</th>\n",
       "      <td>DE111</td>\n",
       "      <td>DE</td>\n",
       "      <td>DE11</td>\n",
       "      <td>206.0</td>\n",
       "      <td>497.17</td>\n",
       "      <td>0.141150</td>\n",
       "      <td>0.536201</td>\n",
       "      <td>0.318846</td>\n",
       "    </tr>\n",
       "    <tr>\n",
       "      <th>1</th>\n",
       "      <td>DE112</td>\n",
       "      <td>DE</td>\n",
       "      <td>DE11</td>\n",
       "      <td>618.0</td>\n",
       "      <td>219.76</td>\n",
       "      <td>0.141150</td>\n",
       "      <td>0.536201</td>\n",
       "      <td>0.318846</td>\n",
       "    </tr>\n",
       "    <tr>\n",
       "      <th>2</th>\n",
       "      <td>DE113</td>\n",
       "      <td>DE</td>\n",
       "      <td>DE11</td>\n",
       "      <td>641.0</td>\n",
       "      <td>262.50</td>\n",
       "      <td>0.141150</td>\n",
       "      <td>0.536201</td>\n",
       "      <td>0.318846</td>\n",
       "    </tr>\n",
       "    <tr>\n",
       "      <th>3</th>\n",
       "      <td>DE114</td>\n",
       "      <td>DE</td>\n",
       "      <td>DE11</td>\n",
       "      <td>642.0</td>\n",
       "      <td>118.33</td>\n",
       "      <td>0.141150</td>\n",
       "      <td>0.536201</td>\n",
       "      <td>0.318846</td>\n",
       "    </tr>\n",
       "    <tr>\n",
       "      <th>4</th>\n",
       "      <td>DE115</td>\n",
       "      <td>DE</td>\n",
       "      <td>DE11</td>\n",
       "      <td>685.0</td>\n",
       "      <td>247.91</td>\n",
       "      <td>0.141150</td>\n",
       "      <td>0.536201</td>\n",
       "      <td>0.318846</td>\n",
       "    </tr>\n",
       "    <tr>\n",
       "      <th>...</th>\n",
       "      <td>...</td>\n",
       "      <td>...</td>\n",
       "      <td>...</td>\n",
       "      <td>...</td>\n",
       "      <td>...</td>\n",
       "      <td>...</td>\n",
       "      <td>...</td>\n",
       "      <td>...</td>\n",
       "    </tr>\n",
       "    <tr>\n",
       "      <th>653</th>\n",
       "      <td>UKM62</td>\n",
       "      <td>UK</td>\n",
       "      <td>UKM6</td>\n",
       "      <td>7822.0</td>\n",
       "      <td>80.00</td>\n",
       "      <td>0.130993</td>\n",
       "      <td>0.441353</td>\n",
       "      <td>0.419949</td>\n",
       "    </tr>\n",
       "    <tr>\n",
       "      <th>654</th>\n",
       "      <td>UKM63</td>\n",
       "      <td>UK</td>\n",
       "      <td>UKM6</td>\n",
       "      <td>14247.0</td>\n",
       "      <td>45.00</td>\n",
       "      <td>0.130993</td>\n",
       "      <td>0.441353</td>\n",
       "      <td>0.419949</td>\n",
       "    </tr>\n",
       "    <tr>\n",
       "      <th>655</th>\n",
       "      <td>UKM64</td>\n",
       "      <td>UK</td>\n",
       "      <td>UKM6</td>\n",
       "      <td>3059.0</td>\n",
       "      <td>10.00</td>\n",
       "      <td>0.130993</td>\n",
       "      <td>0.441353</td>\n",
       "      <td>0.419949</td>\n",
       "    </tr>\n",
       "    <tr>\n",
       "      <th>656</th>\n",
       "      <td>UKM65</td>\n",
       "      <td>UK</td>\n",
       "      <td>UKM6</td>\n",
       "      <td>989.0</td>\n",
       "      <td>10.00</td>\n",
       "      <td>0.130993</td>\n",
       "      <td>0.441353</td>\n",
       "      <td>0.419949</td>\n",
       "    </tr>\n",
       "    <tr>\n",
       "      <th>657</th>\n",
       "      <td>UKM66</td>\n",
       "      <td>UK</td>\n",
       "      <td>UKM6</td>\n",
       "      <td>1466.0</td>\n",
       "      <td>14.00</td>\n",
       "      <td>0.130993</td>\n",
       "      <td>0.441353</td>\n",
       "      <td>0.419949</td>\n",
       "    </tr>\n",
       "  </tbody>\n",
       "</table>\n",
       "<p>658 rows × 8 columns</p>\n",
       "</div>"
      ],
      "text/plain": [
       "     NUTS3 country NUTS2  area_km2  empl_ths     ED0_2     ED3_4     ED5_8\n",
       "0    DE111      DE  DE11     206.0    497.17  0.141150  0.536201  0.318846\n",
       "1    DE112      DE  DE11     618.0    219.76  0.141150  0.536201  0.318846\n",
       "2    DE113      DE  DE11     641.0    262.50  0.141150  0.536201  0.318846\n",
       "3    DE114      DE  DE11     642.0    118.33  0.141150  0.536201  0.318846\n",
       "4    DE115      DE  DE11     685.0    247.91  0.141150  0.536201  0.318846\n",
       "..     ...     ...   ...       ...       ...       ...       ...       ...\n",
       "653  UKM62      UK  UKM6    7822.0     80.00  0.130993  0.441353  0.419949\n",
       "654  UKM63      UK  UKM6   14247.0     45.00  0.130993  0.441353  0.419949\n",
       "655  UKM64      UK  UKM6    3059.0     10.00  0.130993  0.441353  0.419949\n",
       "656  UKM65      UK  UKM6     989.0     10.00  0.130993  0.441353  0.419949\n",
       "657  UKM66      UK  UKM6    1466.0     14.00  0.130993  0.441353  0.419949\n",
       "\n",
       "[658 rows x 8 columns]"
      ]
     },
     "execution_count": 20,
     "metadata": {},
     "output_type": "execute_result"
    }
   ],
   "source": [
    "maindata3 = pd.merge(maindata2, educ_pivoted, left_on = \"NUTS2\", right_on = \"geo\\\\time\")\n",
    "maindata3"
   ]
  },
  {
   "cell_type": "markdown",
   "metadata": {},
   "source": [
    "#### Data shaping: value added\n",
    "\n",
    "Many of the steps I will take here are similar to what I have done previously. I will select only the columns denominated in euros, and only those concerning relevant NUTS-3 regions."
   ]
  },
  {
   "cell_type": "code",
   "execution_count": 21,
   "metadata": {},
   "outputs": [],
   "source": [
    "#select only EUR\n",
    "va_NUTS3 = va_NUTS3[va_NUTS3[\"currency\"] == \"MIO_EUR\"]\n",
    "#select only relevant regions\n",
    "va_NUTS3 = va_NUTS3[va_NUTS3[\"geo\\\\time\"].isin(NUTS3_selected)]"
   ]
  },
  {
   "cell_type": "markdown",
   "metadata": {},
   "source": [
    "There are around 10 \"different\" missing values here. I will take care of them before splitting the data by NACE classification. Again, I will try an interpolation with limit 2, before dropping what remains."
   ]
  },
  {
   "cell_type": "code",
   "execution_count": 22,
   "metadata": {},
   "outputs": [
    {
     "data": {
      "text/plain": [
       "O-Q    2\n",
       "Name: nace_r2, dtype: int64"
      ]
     },
     "execution_count": 22,
     "metadata": {},
     "output_type": "execute_result"
    }
   ],
   "source": [
    "va_NUTS3[\"nace_r2\"][va_NUTS3[2013].isna()].value_counts()"
   ]
  },
  {
   "cell_type": "code",
   "execution_count": 23,
   "metadata": {},
   "outputs": [
    {
     "data": {
      "text/plain": [
       "DE501    1\n",
       "DE502    1\n",
       "Name: geo\\time, dtype: int64"
      ]
     },
     "execution_count": 23,
     "metadata": {},
     "output_type": "execute_result"
    }
   ],
   "source": [
    "va_NUTS3[\"geo\\\\time\"][va_NUTS3[2013].isna()].value_counts()"
   ]
  },
  {
   "cell_type": "code",
   "execution_count": 24,
   "metadata": {},
   "outputs": [],
   "source": [
    "va_NUTS3.loc[:, 2018:1995] = va_NUTS3.loc[:, 2018:1995].interpolate(axis = 1, limit = 2, limit_direction = \"backward\")\n",
    "va_NUTS3 = va_NUTS3[va_NUTS3[2013].notna()]"
   ]
  },
  {
   "cell_type": "markdown",
   "metadata": {},
   "source": [
    "From here it is almost an exact repeat of the steps taken when processing the employment data: keep 2013, pivot the sectors and subtract agriculture from the total."
   ]
  },
  {
   "cell_type": "code",
   "execution_count": 25,
   "metadata": {},
   "outputs": [],
   "source": [
    "#drop unnecessary columns\n",
    "va_NUTS3 = va_NUTS3[[\"nace_r2\", \"geo\\\\time\", 2013]]\n",
    "#pivot sectors to columns\n",
    "va_pivoted = va_NUTS3.pivot(index = \"geo\\\\time\", columns = \"nace_r2\", values = 2013)\n",
    "va_pivoted[\"A\"][va_pivoted[\"A\"].isna()] = 0\n",
    "#subtract agriculture\n",
    "va_pivoted[\"VA_mln\"] = va_pivoted[\"TOTAL\"] - va_pivoted[\"A\"]"
   ]
  },
  {
   "cell_type": "markdown",
   "metadata": {},
   "source": [
    "The final steps are dropping the last unnecessary columns and another join. Then, I will create additional columns to store the natural logs of employment density and labor productivity, after which the final version of the main dataset is ready."
   ]
  },
  {
   "cell_type": "code",
   "execution_count": 26,
   "metadata": {},
   "outputs": [],
   "source": [
    "#last column drop\n",
    "va_pivoted = va_pivoted.iloc[:,15]"
   ]
  },
  {
   "cell_type": "code",
   "execution_count": 27,
   "metadata": {
    "scrolled": true
   },
   "outputs": [
    {
     "data": {
      "text/html": [
       "<div>\n",
       "<style scoped>\n",
       "    .dataframe tbody tr th:only-of-type {\n",
       "        vertical-align: middle;\n",
       "    }\n",
       "\n",
       "    .dataframe tbody tr th {\n",
       "        vertical-align: top;\n",
       "    }\n",
       "\n",
       "    .dataframe thead th {\n",
       "        text-align: right;\n",
       "    }\n",
       "</style>\n",
       "<table border=\"1\" class=\"dataframe\">\n",
       "  <thead>\n",
       "    <tr style=\"text-align: right;\">\n",
       "      <th></th>\n",
       "      <th>NUTS3</th>\n",
       "      <th>country</th>\n",
       "      <th>NUTS2</th>\n",
       "      <th>area_km2</th>\n",
       "      <th>empl_ths</th>\n",
       "      <th>ED0_2</th>\n",
       "      <th>ED3_4</th>\n",
       "      <th>ED5_8</th>\n",
       "      <th>VA_mln</th>\n",
       "      <th>logprod</th>\n",
       "      <th>logdens</th>\n",
       "    </tr>\n",
       "  </thead>\n",
       "  <tbody>\n",
       "    <tr>\n",
       "      <th>0</th>\n",
       "      <td>DE111</td>\n",
       "      <td>DE</td>\n",
       "      <td>DE11</td>\n",
       "      <td>206.0</td>\n",
       "      <td>497.17</td>\n",
       "      <td>0.141150</td>\n",
       "      <td>0.536201</td>\n",
       "      <td>0.318846</td>\n",
       "      <td>41431.64</td>\n",
       "      <td>4.422868</td>\n",
       "      <td>0.881056</td>\n",
       "    </tr>\n",
       "    <tr>\n",
       "      <th>1</th>\n",
       "      <td>DE112</td>\n",
       "      <td>DE</td>\n",
       "      <td>DE11</td>\n",
       "      <td>618.0</td>\n",
       "      <td>219.76</td>\n",
       "      <td>0.141150</td>\n",
       "      <td>0.536201</td>\n",
       "      <td>0.318846</td>\n",
       "      <td>18305.95</td>\n",
       "      <td>4.422445</td>\n",
       "      <td>-1.033952</td>\n",
       "    </tr>\n",
       "    <tr>\n",
       "      <th>2</th>\n",
       "      <td>DE113</td>\n",
       "      <td>DE</td>\n",
       "      <td>DE11</td>\n",
       "      <td>641.0</td>\n",
       "      <td>262.50</td>\n",
       "      <td>0.141150</td>\n",
       "      <td>0.536201</td>\n",
       "      <td>0.318846</td>\n",
       "      <td>16535.70</td>\n",
       "      <td>4.143026</td>\n",
       "      <td>-0.892778</td>\n",
       "    </tr>\n",
       "    <tr>\n",
       "      <th>3</th>\n",
       "      <td>DE114</td>\n",
       "      <td>DE</td>\n",
       "      <td>DE11</td>\n",
       "      <td>642.0</td>\n",
       "      <td>118.33</td>\n",
       "      <td>0.141150</td>\n",
       "      <td>0.536201</td>\n",
       "      <td>0.318846</td>\n",
       "      <td>6711.16</td>\n",
       "      <td>4.038050</td>\n",
       "      <td>-1.691111</td>\n",
       "    </tr>\n",
       "    <tr>\n",
       "      <th>4</th>\n",
       "      <td>DE115</td>\n",
       "      <td>DE</td>\n",
       "      <td>DE11</td>\n",
       "      <td>685.0</td>\n",
       "      <td>247.91</td>\n",
       "      <td>0.141150</td>\n",
       "      <td>0.536201</td>\n",
       "      <td>0.318846</td>\n",
       "      <td>18330.19</td>\n",
       "      <td>4.303239</td>\n",
       "      <td>-1.016353</td>\n",
       "    </tr>\n",
       "    <tr>\n",
       "      <th>...</th>\n",
       "      <td>...</td>\n",
       "      <td>...</td>\n",
       "      <td>...</td>\n",
       "      <td>...</td>\n",
       "      <td>...</td>\n",
       "      <td>...</td>\n",
       "      <td>...</td>\n",
       "      <td>...</td>\n",
       "      <td>...</td>\n",
       "      <td>...</td>\n",
       "      <td>...</td>\n",
       "    </tr>\n",
       "    <tr>\n",
       "      <th>653</th>\n",
       "      <td>UKM62</td>\n",
       "      <td>UK</td>\n",
       "      <td>UKM6</td>\n",
       "      <td>7822.0</td>\n",
       "      <td>80.00</td>\n",
       "      <td>0.130993</td>\n",
       "      <td>0.441353</td>\n",
       "      <td>0.419949</td>\n",
       "      <td>5770.91</td>\n",
       "      <td>4.278558</td>\n",
       "      <td>-4.582669</td>\n",
       "    </tr>\n",
       "    <tr>\n",
       "      <th>654</th>\n",
       "      <td>UKM63</td>\n",
       "      <td>UK</td>\n",
       "      <td>UKM6</td>\n",
       "      <td>14247.0</td>\n",
       "      <td>45.00</td>\n",
       "      <td>0.130993</td>\n",
       "      <td>0.441353</td>\n",
       "      <td>0.419949</td>\n",
       "      <td>2424.47</td>\n",
       "      <td>3.986706</td>\n",
       "      <td>-5.757639</td>\n",
       "    </tr>\n",
       "    <tr>\n",
       "      <th>655</th>\n",
       "      <td>UKM64</td>\n",
       "      <td>UK</td>\n",
       "      <td>UKM6</td>\n",
       "      <td>3059.0</td>\n",
       "      <td>10.00</td>\n",
       "      <td>0.130993</td>\n",
       "      <td>0.441353</td>\n",
       "      <td>0.419949</td>\n",
       "      <td>580.51</td>\n",
       "      <td>4.061322</td>\n",
       "      <td>-5.723258</td>\n",
       "    </tr>\n",
       "    <tr>\n",
       "      <th>656</th>\n",
       "      <td>UKM65</td>\n",
       "      <td>UK</td>\n",
       "      <td>UKM6</td>\n",
       "      <td>989.0</td>\n",
       "      <td>10.00</td>\n",
       "      <td>0.130993</td>\n",
       "      <td>0.441353</td>\n",
       "      <td>0.419949</td>\n",
       "      <td>640.56</td>\n",
       "      <td>4.159758</td>\n",
       "      <td>-4.594109</td>\n",
       "    </tr>\n",
       "    <tr>\n",
       "      <th>657</th>\n",
       "      <td>UKM66</td>\n",
       "      <td>UK</td>\n",
       "      <td>UKM6</td>\n",
       "      <td>1466.0</td>\n",
       "      <td>14.00</td>\n",
       "      <td>0.130993</td>\n",
       "      <td>0.441353</td>\n",
       "      <td>0.419949</td>\n",
       "      <td>801.87</td>\n",
       "      <td>4.047889</td>\n",
       "      <td>-4.651236</td>\n",
       "    </tr>\n",
       "  </tbody>\n",
       "</table>\n",
       "<p>658 rows × 11 columns</p>\n",
       "</div>"
      ],
      "text/plain": [
       "     NUTS3 country NUTS2  area_km2  empl_ths     ED0_2     ED3_4     ED5_8  \\\n",
       "0    DE111      DE  DE11     206.0    497.17  0.141150  0.536201  0.318846   \n",
       "1    DE112      DE  DE11     618.0    219.76  0.141150  0.536201  0.318846   \n",
       "2    DE113      DE  DE11     641.0    262.50  0.141150  0.536201  0.318846   \n",
       "3    DE114      DE  DE11     642.0    118.33  0.141150  0.536201  0.318846   \n",
       "4    DE115      DE  DE11     685.0    247.91  0.141150  0.536201  0.318846   \n",
       "..     ...     ...   ...       ...       ...       ...       ...       ...   \n",
       "653  UKM62      UK  UKM6    7822.0     80.00  0.130993  0.441353  0.419949   \n",
       "654  UKM63      UK  UKM6   14247.0     45.00  0.130993  0.441353  0.419949   \n",
       "655  UKM64      UK  UKM6    3059.0     10.00  0.130993  0.441353  0.419949   \n",
       "656  UKM65      UK  UKM6     989.0     10.00  0.130993  0.441353  0.419949   \n",
       "657  UKM66      UK  UKM6    1466.0     14.00  0.130993  0.441353  0.419949   \n",
       "\n",
       "       VA_mln   logprod   logdens  \n",
       "0    41431.64  4.422868  0.881056  \n",
       "1    18305.95  4.422445 -1.033952  \n",
       "2    16535.70  4.143026 -0.892778  \n",
       "3     6711.16  4.038050 -1.691111  \n",
       "4    18330.19  4.303239 -1.016353  \n",
       "..        ...       ...       ...  \n",
       "653   5770.91  4.278558 -4.582669  \n",
       "654   2424.47  3.986706 -5.757639  \n",
       "655    580.51  4.061322 -5.723258  \n",
       "656    640.56  4.159758 -4.594109  \n",
       "657    801.87  4.047889 -4.651236  \n",
       "\n",
       "[658 rows x 11 columns]"
      ]
     },
     "execution_count": 27,
     "metadata": {},
     "output_type": "execute_result"
    }
   ],
   "source": [
    "#last join\n",
    "maindata4 = maindata3.merge(va_pivoted, left_on = \"NUTS3\", right_index = True)\n",
    "#create logs of density and productivity\n",
    "maindata4[\"logprod\"] = np.log(maindata4[\"VA_mln\"]/maindata4[\"empl_ths\"])\n",
    "maindata4[\"logdens\"] = np.log(maindata4[\"empl_ths\"]/maindata4[\"area_km2\"])\n",
    "\n",
    "maindata4"
   ]
  },
  {
   "cell_type": "markdown",
   "metadata": {},
   "source": [
    "### Analysis"
   ]
  },
  {
   "cell_type": "code",
   "execution_count": 28,
   "metadata": {},
   "outputs": [
    {
     "data": {
      "text/plain": [
       "([<matplotlib.axis.XTick at 0x1ed40a58610>,\n",
       "  <matplotlib.axis.XTick at 0x1ed40a585e0>,\n",
       "  <matplotlib.axis.XTick at 0x1ed40ad7c10>,\n",
       "  <matplotlib.axis.XTick at 0x1ed41ea2700>],\n",
       " [Text(1, 0, 'Germany'),\n",
       "  Text(2, 0, 'Spain'),\n",
       "  Text(3, 0, 'Italy'),\n",
       "  Text(4, 0, 'United Kingdom')])"
      ]
     },
     "execution_count": 28,
     "metadata": {},
     "output_type": "execute_result"
    },
    {
     "data": {
      "image/png": "iVBORw0KGgoAAAANSUhEUgAAAX0AAAEHCAYAAABCwJb2AAAAOXRFWHRTb2Z0d2FyZQBNYXRwbG90bGliIHZlcnNpb24zLjMuMiwgaHR0cHM6Ly9tYXRwbG90bGliLm9yZy8vihELAAAACXBIWXMAAAsTAAALEwEAmpwYAAAcqUlEQVR4nO3df5gcVZ3v8feHJCBMIoLBCRpNWBUNBmRldHUXr4kgN4iIyqo7oFkkGvWumEd0Q3azCqh5xLiIEfTusiaS3ZVR1IXVRAOiM2JWFAIGiAa9oImEHyLKrxkQkvC9f9QZ0ml6ZnrSVdM9XZ/X89Qz1fXj1LdP93z79KnqU4oIzMysHPZqdgBmZjZ2nPTNzErESd/MrESc9M3MSsRJ38ysRJz0zcxKxEnfmkKZL0u6X9J1dWw/U1JImlhgTKdKuiqnsuZI2pZHWWZ5ctIvKUlbJB3bxBCOBl4HTI+IVzQxjidFxFci4rjBx+lD5gXNjKlZJF0i6ZPNjsPy56RvzTID2BIRA80OxEavyG9cViwnfduNpH0kfU7SXWn6nKR9KtYvlnR3Wvfu4VrDkp4t6VuS/ijpNknvScsXAF8CXiWpX9K5NfadIOmfJd0n6dfACVXr95e0MsVyp6RPSpqQ1p0maX3a/35Jv5F0fMW+p0n6taSH07pTK/dL89ekzW9KMb5d0iZJJ1aUMynFd+Qw9fmPaZstFcd5uaTfVSZOSSdL2jhEGftKOl/SVkkPpue2b1r3Rkk/l/SApD5Jsyr22+21qWy9D3Y/SfqwpHtTPb4rrVsInAosTs/922n5FklnSboZGJD095K+WRXrhZI+N1R9WAuICE8lnIAtwLE1ln8c+AnwLOAg4MfAJ9K6ecA9wEuA/YD/AAJ4wRDH+CHwReBpwJHA74Fj0rrTgPXDxPc+4FbgucCBQG861sS0/grgX4GOFOt1wHsryt4OvAeYALwfuAtQ2v4h4EVp24OBl9SKqfq5AYuBr1U8Pgm4ZYj45wA7gM8C+wCvAQYqjvsL4PiK7S8HPjxEWV8A+oDnpOfzl6nMQ1OZrwMmpfhuA/YeIv5LgE9WxffxtO/rgUeAA6q3rXrPbEyvyb6p7gaAZ6T1E4F7gaOa/f72NPTU9AA8NemFHzrp3w68vuLx/ybrhgFYBXyqYt0LqhNLxbrnAjuBKRXLPgVckuZ3S7A19v8B8L6Kx8elY00EOoHHgH0r1ncDvRVl31axbr+07zSypP8AcHLl/rViqpE0nw08DDw9Pf4GsHiI+AeTakfFssuAj6b5s4CvpPkDU8I9uEY5ewGPAi+tse6jwGVV294JzBki/uqk/yjpQzQtuxd4ZfW2Ve+Z06uWfRd4T5p/A/CLZr+3PQ0/uXvHqj0b2FrxeGtaNrjujop1lfO1yvljRDxcVdZzRhFHZfmVMc0ga53enbo1HiBr9T+rYpt7Bmci4pE0OzmycwhvJ/smcbektZJeXE9AEXEX8D/AyZKeARwPfGWYXe6P3c9ZVNblfwInSpoMvA34UUTcXaOMqWTflG6vsW631yoiniCrs3rr+A8RsaPi8SPA5BH2qX7NVwPvSPPvIPv2Zy3MSd+q3UWWVAc9Ly0DuBuYXrHuuSOUc6CkKVVl3VlnHHdXlf+8ivk7yFr6UyPiGWl6ekS8pJ6CI+LKiHgdWffErcC/1RkT7EpybwWujYjhns8BkjqqnsNdKYY7gWuBNwPvZOhkeR/wJ+D5Ndbt9lpJElmdDcb0CNm3nEHThom12lDD71YvvwI4QtJsspb+cB+C1gKc9MttkqSnVUwTgR7gnyQdJGkq8DGyVilk3RPvkjRL0n5pXU0RcQfZ+YBPpbKPABZQf1K4DPigpOmSDgCWVJR9N3AVcL6kp0vaS9LzJb1mpEIldaaTnx1kHxz9ZN1QtfwO+LOqZVcALwMWAf9ex/M4V9Lekl5NlhS/XrHu38n64Q8n69N/itR6XwV8Np0YnyDpVenk+mXACZKOkTQJ+HB6Tj9Ou28ETkn7zCM7r1CvWs+9Vnx/IuvmuhS4LiJ+O4pjWBM46Zfbd8j6dQenc4BPAhuAm4FbgBvTMiLiu8DnyU6q3kbWUoUs0dTSDcwka5FeDpwdEd+rM7Z/A64Ebkox/FfV+vnA3mQnRO8nSzwH11HuXmTJ8S7gj2SJ8P8Mse05wOrUhfQ2gIh4FPgmcEiNmKrdk2K7i+zD7n0RcWvF+svJWuqXx/CXrn6E7LW4PsX8aWCviPgl2beOC8m+EZwInBgRj6f9FqVlD5BdjXPFCPFWWgkclp77SPutJvvgctfOOKAI30TF9ky6PHATsE9V33Bbk/Qx4NCIeMeIG49c1u1kVx1d3XhkzSHpeWTdZNMi4qFmx2PDc0vfRkXSm1N3xQFkLc5vlyzhH0jWTXVxDmWdTNZH/oNGy2oWSXsBZwJfdcIfH5z0bbTeS3a9/e1kfeHvb244Y0fZj8vuAL4bEdeMtP0IZfUB/xf4u9RvP+6k8yIPkf1O4Owmh2N1cveOmVmJuKVvZlYiTvpmZiXSlJHypk6dGjNnzmzGoUdtYGCAjo6OkTe0UXPdFsP1WozxVq833HDDfRFxUPXypiT9mTNnsmHDhmYcetT6+vqYM2dOs8NoS67bYrheizHe6lXS1lrL3b1jZlYiTvpmZiXipG9mViJO+mZmJeKkb2ZWIk76ZmYl4qRvZlYiTvpmZiXSlB9ntYLsznL58uB1ZtbqStvSr/fO8TPOWlP3tmZmrS6XpC9plaR7JW3KozwzMytGXi39S4B5OZVlZmYFyaVPPyKukTQzj7LMzMZa3uf4Wrm7d8xO5EpaCCwE6OzspK+vb6wO3bDxFOt40t/f77otgOt19Hp7e0fc5rR1A1wyr76hlVu5/scs6UfExaSbSXd1dcW4GaJ03dpxNZzqeDLehqodL1yvBWmTXFDaq3fMzMrISd/MrETyumSzB7gWeJGkbZIW5FGumZnlK6+rd7rzKMfMzIrl7h0zsxJx0rcx19PTw+zZsznmmGOYPXs2PT09zQ7JrDRKO+CaNUdPTw9Lly5l5cqV7Ny5kwkTJrBgQXYKqLvbvYRmRXNL38bUsmXLWLlyJXPnzmXixInMnTuXlStXsmzZsmaHZlYKTvo2pjZv3szRRx+927Kjjz6azZs3Nykis3Jx0rcxNWvWLNavX7/bsvXr1zNr1qwmRWRWLk76NqaWLl3KggUL6O3tZceOHfT29rJgwQKWLl3a7NDMSsEncm1MDZ6sPeOMM9i8eTOzZs1i2bJlPolrNkac9G3MdXd3093d7YHBzJrA3Ts25nydvlnzuKVvY8rX6Zs1l1v6NqZ8nb5Zcznp25jydfpmzeWkb2PK1+mbNZeTvo0pX6dv1lw+kWtjytfpmzWXW/o25rq7u9m0aRPf//732bRpkxN+TnwprNXDLX2zNuBLYa1ebumbtQFfCmv1yuvG6PMk/VLSbZKW5FGmmdXPl8JavRpO+pImAF8AjgcOA7olHdZouWZWP18Ka/XKo6X/CuC2iPh1RDwOfBU4KYdyzaxOvhTW6pXHidznAHdUPN4G/EUO5ZpZnXwprNUrj6SvGsviKRtJC4GFAJ2dnfT19eVw6LExnmIdT/r7+123OTr44IO56KKL6O/vZ/LkyYDfu3lrh/rMI+lvA55b8Xg6cFf1RhFxMXAxQFdXV4ybcdTXrfWY7wXxePrFcL0WpE1yQR59+tcDL5R0iKS9gb8BvpVDuWY2Cv5xltWj4ZZ+ROyQ9AHgSmACsCoift5wZGZWt56eHhYtWkRHRwcAAwMDLFq0CPCPs2x3ufwiNyK+A3wnj7LMbPQWL17MxIkTWbVq1ZO/yD311FNZvHixk77txr/INWsD27ZtY/Xq1bv9Inf16tVs27at2aFZi3HSNzMrESd9szYwffp05s+fv9uPs+bPn8/06dObHZq1GI+yadYGli9fzqJFizj99NPZunUrM2bMYOfOnXz2s59tdmjWYtzSN2sD3d3drFixgo6ODiTR0dHBihUrfBLXnsItfbM20d3dTXd3t3+cVeGl517Fg49uz628mUvW5lbW/vtO4qazj8utvHo56ZtZ23rw0e1sOe+EXMrK+8M0zw+Q0XD3jplZiTjpm5mViJO+mVmJOOmbmZWIk76ZWYk46ZuZlYiTvplZifg6fbNxQqp1Z9LGRDzlzqbW5tzSNxsnIqKuacZZa+re1srHSd/MrESc9M3MSsRJ38ysRBpK+pLeKunnkp6Q1JVXUGZmVoxGW/qbgLcA1+QQi5mZFayhSzYjYjMUcylZIzyGtplZbW15nb7H0G6uvBsBvrTQLD8jJn1JVwPTaqxaGhH/Xe+BJC0EFgJ0dnbS19dX7657JK/y+/v7c4+16OfebL29vXVtd9q6AS6Z1zHidu1eX0Vwne3iXLC7EZN+RBybx4Ei4mLgYoCurq4o9HZu69bm1jrP/dZzOcY27rkuiuF63cW54Cl8yaaZWYk0esnmmyVtA14FrJV0ZT5hmZlZERq9eudy4PKcYjEzs4K5e8fMrESc9M3MSsRJ38ysRJz0zcxKxEnfzKxEnPTNzErESd/MrESc9M3MSsRJ38ysRNpyaGUzM4Aps5Zw+Ool+RW4Or+ipswCyGcI+NFw0jeztvXw5vN8b40q7t4xMysRJ30zsxJx0jczKxEnfTOzEnHSNzMrESd9M7MScdI3MysRJ30zsxJp9Mbon5F0q6SbJV0u6Rk5xWVmZgVotKX/PWB2RBwB/Ar4h8ZDMjOzojSU9CPiqojYkR7+BJjeeEhmZlaUPPv0Twe+m2N5ZmaWsxEHXJN0NTCtxqqlEfHfaZulwA7gK8OUsxBYCNDZ2UlfX9+exFu3vMrv7+/PPdain/t44roohut1F+eCKhHR0AT8LXAtsF+9+xx11FFRpBlnrcmtrN7e3tzKisg3tvHOdVEM1+suZc4FwIaokX8bGlpZ0jzgLOA1EfFIw59AZmZWqEb79C8CpgDfk7RR0r/kEJOZmRWkoZZ+RLwgr0DMzKx4/kWumVmJOOmbmZWI75Fr1gJeeu5VPPjo9tzKy+v+q/vvO4mbzj4ul7KsNTjpm7WABx/d3pI38G7WzbutOO7eMTMrESd9M7MSacvunSmzlnD46iX5Fbg6v6KmzALI52u8mdlotWXSf3jzeS3ZPwruIzWz5nL3jplZibRlS9/MbFCu367X5VfW/vtOyq2s0XDSN7O2lVc3L2QfHnmW1yzu3jEzKxEnfTOzEnHSNzMrESd9M7MScdI3MysRJ30zsxJx0jczKxFfp2/WAlp1vCiPFdV+nPTNWkCrjhflsaLaT0PdO5I+IelmSRslXSXp2XkFZmZm+Wu0T/8zEXFERBwJrAE+1nhIZmZWlIa6dyLioYqHHUA0Fo61srzv4wq+l6vZWGu4T1/SMmA+8CAwd5jtFgILATo7O+nr62v00MNq1ZH1OiZR+HMvyoOPbueSeR25ldff38/kyZNzKeu0dQPjtl4H5RV/f39/rnUx3us1T21RFxEx7ARcDWyqMZ1Utd0/AOeOVF5EcNRRR8V4MeOsNc0OoWXkXRe9vb25lTXeX6c843e9FmO81QWwIWrk3xFb+hFxbJ2fH5cCa4GzR/3JY2ZmY6LRq3deWPHwjcCtjYVjZmZFarRP/zxJLwKeALYC72s8JDMzK0qjV++cnFcgZmZWPI+9Y2ZWIk76ZmYl4qRvZlYiTvpmZiXiUTbNWkQr/op8/30n5VKOtQ4nfbMWkNewypB9eORZnrUXd++YmZWIk76ZWYk46ZuZlYiTvplZiTjpm5mViJO+mVmJOOmbmZWIk76ZWYk46ZuZlYiTvplZiXgYBqvblFlLOHz1knwLXZ1PMVNmAXjoAbOROOlb3R7efF6uY7r09fUxZ86cXMrKdbAyszbm7h0zsxLJJelL+oikkDQ1j/LMzKwYDSd9Sc8FXgf8tvFwzMysSHm09C8AFgORQ1lmZlaghk7kSnojcGdE3CRppG0XAgsBOjs76evra+TQY2o8xVq0POuiv78/1/L8Ou3iuihGO9TriElf0tXAtBqrlgL/CBxXz4Ei4mLgYoCurq7I66qNwq1bm9sVJuNeznWR59U7fp0quC6K0Sb1OmLSj4hjay2XdDhwCDDYyp8O3CjpFRFxT65RmplZLva4eycibgGeNfhY0hagKyLuyyEuMzMrgK/TNzMrkdx+kRsRM/Mqy8zMilHaYRhGutpot20/Xd92Eb5q1cxaW2m7dyKirqm3t7fubc3MWl1pk76ZWRk56ZuZlYiTvplZiTjpm5mViJO+mVmJOOmbmZWIk76ZWYk46ZuZlYiTvplZiTjpm5mViJO+mVmJlHbANTOzQfUOwNgOgy866duozFyyNt8C1+VT3v77TsqlHCunepJ0rrf3bCInfavblvNOyLW8mUvW5l5mO/Nw4JYH9+mbjRMeDtzy4KRvZlYiTvpmZiXSUNKXdI6kOyVtTNPr8wrMzMzyl8eJ3Asi4p9zKMfMzArm7h0zsxLJI+l/QNLNklZJOiCH8szMrCAa6bItSVcD02qsWgr8BLgPCOATwMERcfoQ5SwEFgJ0dnYe9dWvfrWBsMdOf38/kydPbnYYbem0dQNcMq+j2WG0Hb9nizHe6nXu3Lk3RERX9fIRk369JM0E1kTE7JG27erqig0bNuRy3KK1y6/wWpF/nFUMv2eLMd7qVVLNpN/o1TsHVzx8M7CpkfLMzKxYjV69s1zSkWTdO1uA9zYakJmZFaehpB8R78wrEDMzK54v2TQzKxEnfTOzEnHSNzMrESd9M7MScdI3MysRJ30zsxJx0jczKxEnfTOzEnHSNzMrESd9M7MScdI3MysRJ30zs2H09PQwe/ZsjjnmGGbPnk1PT0+zQ2qIk76Z2RB6enpYtGgRAwMDAAwMDLBo0aJxnfid9M3MhrB48WK2b98OwOANp7Zv387ixYubGVZDGh1P38ysbW3bto1p06axatUqdu7cyYQJEzjllFPYtm1bs0PbY27pW+4k1TVt/fQb6trOrJnOPPNM5s6dy8SJE5k7dy5nnnlms0NqiJO+5S4i6pp6e3vr2s6smc4//3x6e3vZsWMHvb29nH/++c0OqSHu3jEzG8L06dPp7+/n9NNPZ+vWrcyYMYPHHnuM6dOnNzu0PeaWvpnZEJYvX86kSZMAnuxqnDRpEsuXL29mWA1pOOlLOkPSLyX9XNL4rQkzsyrd3d2sWLGCjo4OADo6OlixYgXd3d1NjmzPNdS9I2kucBJwREQ8JulZ+YRlZtYauru76e7upq+vjzlz5jQ7nIY12tJ/P3BeRDwGEBH3Nh6SmZkVpdGkfyjwakk/lfRDSS/PIygzMyvGiN07kq4GptVYtTTtfwDwSuDlwGWS/ixqXGcnaSGwEKCzs5O+vr4Gwh47/f394ybW8cZ1WwzXazHapV7VyHXQktaRde/0pce3A6+MiN8Pt19XV1ds2LBhj487ltqlH68VuW6L4XotxnirV0k3RERX9fJGu3euAF6bDnAosDdwX4NlmplZQRpt6e8NrAKOBB4HPhIRP6hjv98DW/f4wGNrKv4gK4rrthiu12KMt3qdEREHVS9sKOmXgaQNtb4iWeNct8VwvRajXerVv8g1MysRJ30zsxJx0h/Zxc0OoI25bovhei1GW9Sr+/TNzErELX0zsxJpq6QvqVPSpZJ+LekGSddKenOz4yoDSUvTSKs3S9oo6S/2oIw3SlpSRHztQFJ/+jtT0il1bD9T0qbiI8tHrXglnSPpIyPs1yXp82l+jqS/3INjb5E0dbjlko6S9BtJf57nezXFvCaPsurRNjdRUTbY9RXA6og4JS2bAbyxzv0nRMTO4iJsX5JeBbwBeFkabXUq2Q/1RiUivgV8K+/42tBM4BTg0ibH0RIiYgMw+BP/OUA/8OM8jyHpCOAbwNsj4mfAzxin79V2aum/Fng8Iv5lcEFEbI2ICyVNkPQZSdenluh74clP2F5JlwK3pMc/lHSZpF9JOk/SqZKuk3SLpOen/U5Mg8z9TNLVkjrT8nMkrZLUl75tfDAt/4SkRYNxSVo2uK5NHAzcVzHa6n0RcVdqJX061d91kl4Aw9bfaZIuSvOXSPq8pB+nuvzrpj271nMe2UCHGyV9KLWQfyTpxjQ9paWb1h9Z8fh/UiIbN9L/1eD76VeSXp2Wz5G0RtJM4H3Ah1LdvFrSQZK+mf73r5f0V2mfZ0q6Kr0H/xUY7mbMs8galO+MiOvS/iO+VyXtJemL6RvwGknfqVg3T9KtktYDb6l4jgdKuiLlqZ8MvkYpt6xOMW+R9BZJy1NeWidpUt0VWe/9TFt9Aj4IXDDEuoXAP6X5fchaBYeQtQoGgEPSujnAA2RJbB/gTuDctG4R8Lk0fwC7ToK/Gzg/zZ9D1sLYh+zXe38AJpG1zG5M2+wF3A48s9l1lmPdTwY2Ar8Cvgi8Ji3fAixN8/OBNSPU32nARWn+EuDrqb4OA25r9vNs9gT0V7xP11Qs3w94Wpp/IbAhzc8ENqX5v614/x46uE0rTZXxViw7h+yX/gB9Fe+V1wNXV9dH5fbp8aXA0Wn+ecDmNP954GNp/gQggKk1YtoC/BF4fdXyEd+rwF8D30nLpwH3p2VPA+5Ir5WAyyrivxA4O82/FthY8bzWk+WTlwKPAMendZcDb6q3ntume6eapC8AR5MND7EVOKKitbg/WYU/DlwXEb+p2PX6iLg7lXE7cFVafgswN81PB74m6WCybozK/ddG1uJ9TNK9QGdEbJH0B0l/DnQCP4uIP+T8lJsmIvolHQW8mqyOvqZd/Z09FX8vSPPD1V+lKyLiCeAXg98GrKZJwEWpJb+TLKlX+zrwUUl/D5xOlqhazVCXElYu/6/09wayD4mRHAscJj3ZkH+6pCnA/yK1sCNiraT7hynjauDdkq6MobuAa71Xjwa+npbfI6k3LX8x8JuI+H8Akv6TNAJx2ufkFNcP0jeS/dO670bEdkm3ABOAdWn5LdRXF0B7de/8HHjZ4IOI+DvgGOAgsk/TMyLiyDQdEhGDyXygqpzHKuafqHj8BLvOgVxI9il/OPBesk/uWvvvrNjnS2Stg3eRjVfUViJiZ0T0RcTZwAdIb1x2/4cdnB+u/ipV1uVwX7/L7kPA78hagF3UOJ8SEY8A3yO7093baM3zAX8g+xZY6UB2H+9m8D1R+b81nL2AV1X87z8nIh5O6+q9Xv0D6e8Xh9mm1nt1uPfsUMeutc/gtoPdp08A2yM189k9N42onZL+D4CnSXp/xbL90t8rgfcP9ntJOlRSRwPH2p+s6weyr831uByYR3bfgSsbOHbLkfQiSS+sWHQkuwbUe3vF32vT/J7Un+3yMDCl4vH+wN0pGbyTrBVYy5fIujWuj4g/Fhvi6EVEP3C3pGMg698m+59ZP4piquvmKnYlbSrOa1wDnJqWHc9TP2wqPQF0Ay+S9PFRxLIeODn17XeSdUMB3AoconSOMJU9qDKuOWTnyh4axTFH1DbdOxERkt4EXCBpMfB7slb8WWRfbWcCNyr7nvd74E0NHO4c4OuS7gR+QnZ+YKT4Hk9f7x4Y5ivieDUZuFDSM4AdwG1kX1ffAOwj6adkDYzBN/c5jLL+bDc3Azsk3UTWTfNF4JuS3gr08tRvrwBExA2SHgK+PFaB7oH5wBcknZ8enxsRt49i/28D35B0EnAG2bm+L0i6mSzfXUN2svdcoEfSjcAPgd8OV2hkV6WdBPxQ0u8Yoo6rfJOst2ET2fmunwIPRsSflN1Uaq2k+8g+HGanfc4BvpzifYQCGkX+Re4YkbQXcCPw1sG+vHYnaQvQFRHjaTjatiXp2WQnQ1+cvhVYwSRNTue8nglcB/xVRNzTzJjaqXunZUk6jKz1+/2yJHxrLZLmk7U0lzrhj6k1kjYCPwI+0eyED27pm5mVilv6ZmYl4qRvZlYiTvpmZiXipG9mViJO+mZmJeKkb2ZWIv8fKPvCTJtKRY4AAAAASUVORK5CYII=\n",
      "text/plain": [
       "<Figure size 432x288 with 1 Axes>"
      ]
     },
     "metadata": {
      "needs_background": "light"
     },
     "output_type": "display_data"
    }
   ],
   "source": [
    "maindata4.boxplot(column = \"logdens\", by = \"country\")\n",
    "plt.suptitle('')\n",
    "plt.title(\"Log of density by country\")\n",
    "plt.xlabel('')\n",
    "plt.xticks([1,2,3,4],[\"Germany\", \"Spain\", \"Italy\", \"United Kingdom\"])"
   ]
  },
  {
   "cell_type": "markdown",
   "metadata": {},
   "source": [
    "Above, you see a boxplot describing the spread of the natural log of employment density, broken down by country. Spain and Italy have a small number of upward outliers. This is expected, as they are known for having a small number of relatively very large cities (places like Barcelona and Madrid in the case of Spain, and Rome and Milan in the case of Italy). Meanwhile, the UK has some downward outliers, which most likely represent sparse counties in the Scottish and Welsh Highlands."
   ]
  },
  {
   "cell_type": "code",
   "execution_count": 29,
   "metadata": {},
   "outputs": [
    {
     "data": {
      "text/plain": [
       "([<matplotlib.axis.XTick at 0x1ed425f37c0>,\n",
       "  <matplotlib.axis.XTick at 0x1ed425f3790>,\n",
       "  <matplotlib.axis.XTick at 0x1ed41ea2eb0>,\n",
       "  <matplotlib.axis.XTick at 0x1ed42973880>],\n",
       " [Text(1, 0, 'Germany'),\n",
       "  Text(2, 0, 'Spain'),\n",
       "  Text(3, 0, 'Italy'),\n",
       "  Text(4, 0, 'United Kingdom')])"
      ]
     },
     "execution_count": 29,
     "metadata": {},
     "output_type": "execute_result"
    },
    {
     "data": {
      "image/png": "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\n",
      "text/plain": [
       "<Figure size 432x288 with 1 Axes>"
      ]
     },
     "metadata": {
      "needs_background": "light"
     },
     "output_type": "display_data"
    }
   ],
   "source": [
    "maindata4.boxplot(column = \"logprod\", by = \"country\")\n",
    "plt.suptitle('')\n",
    "plt.title(\"Log of productivity by country\")\n",
    "plt.xlabel('')\n",
    "plt.xticks([1,2,3,4],[\"Germany\", \"Spain\", \"Italy\", \"United Kingdom\"])"
   ]
  },
  {
   "cell_type": "markdown",
   "metadata": {},
   "source": [
    "Meanwhile, the distributions for log labor productivity are a lot more compressed, and the country averages are a lot closer together than the average employment densities. Furthermore, there are a lot more upward outliers, especially in the UK and Germany."
   ]
  },
  {
   "cell_type": "code",
   "execution_count": 30,
   "metadata": {},
   "outputs": [
    {
     "data": {
      "text/plain": [
       "0.027045896856065076"
      ]
     },
     "execution_count": 30,
     "metadata": {},
     "output_type": "execute_result"
    },
    {
     "data": {
      "image/png": "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\n",
      "text/plain": [
       "<Figure size 432x288 with 1 Axes>"
      ]
     },
     "metadata": {
      "needs_background": "light"
     },
     "output_type": "display_data"
    }
   ],
   "source": [
    "#create color and label dictionaries\n",
    "colors = {\"DE\": \"yellow\", \"ES\":\"red\", \"IT\":\"green\", \"UK\":\"blue\"}\n",
    "labels = {\"DE\": \"Germany\", \"ES\":\"Spain\", \"IT\":\"Italy\", \"UK\":\"United Kingdom\"}\n",
    "\n",
    "#run a loop drawing a scatterplot for each country\n",
    "for c in maindata4.country.unique() :\n",
    "    plt.scatter(x = \"logdens\",\n",
    "                y = \"logprod\",\n",
    "                c = colors[c],\n",
    "                s = \"empl_ths\",\n",
    "                data = maindata4[maindata4[\"country\"] == c],\n",
    "                alpha = 0.5)\n",
    "\n",
    "#add a best fit line\n",
    "b,a = np.polyfit(maindata4[\"logdens\"], maindata4[\"logprod\"], 1)\n",
    "plt.plot(maindata4[\"logdens\"], maindata4[\"logdens\"]*b + a, color = \"black\", alpha = 0.6)\n",
    "\n",
    "#create a list of custom legend entries using list comprehension    \n",
    "patches = [mpatch.Patch(color = colors[c], label = labels[c]) for c in maindata4.country.unique()]\n",
    "#use custom legend contents and move the legend away from the top right\n",
    "plt.legend(handles = patches, loc = \"upper left\")\n",
    "\n",
    "#add labels\n",
    "plt.xlabel(\"log of employment density\")\n",
    "plt.ylabel(\"log of labor productivity\")\n",
    "plt.title(\"Association of density and productivity\")\n",
    "\n",
    "#print naive OLS coefficient\n",
    "b"
   ]
  },
  {
   "cell_type": "markdown",
   "metadata": {},
   "source": [
    "While the naive OLS estimate indeed shows a positive relationship between density and productivity, the coefficient is a lot lower than it is in the original paper (0.027 versus 0.051). It seems that Germany and Italy are driving most of the correlation, with the UK almost exhibiting a hump-shaped pattern.\n",
    "\n",
    "However, we cannot interpret this result as causal. As explained before, I will use area as an instrumental variable. To test whether the instrument is still relevant in 2013, I check whether the reduced form (regressing the dependent variable directly on the instrument) yields a statistically significant result:"
   ]
  },
  {
   "cell_type": "code",
   "execution_count": 31,
   "metadata": {},
   "outputs": [
    {
     "data": {
      "text/html": [
       "<table class=\"simpletable\">\n",
       "<caption>OLS Regression Results</caption>\n",
       "<tr>\n",
       "  <th>Dep. Variable:</th>         <td>logprod</td>     <th>  R-squared:         </th> <td>   0.014</td>\n",
       "</tr>\n",
       "<tr>\n",
       "  <th>Model:</th>                   <td>OLS</td>       <th>  Adj. R-squared:    </th> <td>   0.013</td>\n",
       "</tr>\n",
       "<tr>\n",
       "  <th>Method:</th>             <td>Least Squares</td>  <th>  F-statistic:       </th> <td>   9.391</td>\n",
       "</tr>\n",
       "<tr>\n",
       "  <th>Date:</th>             <td>Tue, 26 Jan 2021</td> <th>  Prob (F-statistic):</th>  <td>0.00227</td>\n",
       "</tr>\n",
       "<tr>\n",
       "  <th>Time:</th>                 <td>16:24:44</td>     <th>  Log-Likelihood:    </th> <td>  352.81</td>\n",
       "</tr>\n",
       "<tr>\n",
       "  <th>No. Observations:</th>      <td>   658</td>      <th>  AIC:               </th> <td>  -701.6</td>\n",
       "</tr>\n",
       "<tr>\n",
       "  <th>Df Residuals:</th>          <td>   656</td>      <th>  BIC:               </th> <td>  -692.6</td>\n",
       "</tr>\n",
       "<tr>\n",
       "  <th>Df Model:</th>              <td>     1</td>      <th>                     </th>     <td> </td>   \n",
       "</tr>\n",
       "<tr>\n",
       "  <th>Covariance Type:</th>      <td>nonrobust</td>    <th>                     </th>     <td> </td>   \n",
       "</tr>\n",
       "</table>\n",
       "<table class=\"simpletable\">\n",
       "<tr>\n",
       "      <td></td>         <th>coef</th>     <th>std err</th>      <th>t</th>      <th>P>|t|</th>  <th>[0.025</th>    <th>0.975]</th>  \n",
       "</tr>\n",
       "<tr>\n",
       "  <th>Intercept</th> <td>    4.0176</td> <td>    0.007</td> <td>  609.095</td> <td> 0.000</td> <td>    4.005</td> <td>    4.031</td>\n",
       "</tr>\n",
       "<tr>\n",
       "  <th>area_km2</th>  <td>-5.615e-06</td> <td> 1.83e-06</td> <td>   -3.065</td> <td> 0.002</td> <td>-9.21e-06</td> <td>-2.02e-06</td>\n",
       "</tr>\n",
       "</table>\n",
       "<table class=\"simpletable\">\n",
       "<tr>\n",
       "  <th>Omnibus:</th>       <td>140.458</td> <th>  Durbin-Watson:     </th> <td>   1.265</td>\n",
       "</tr>\n",
       "<tr>\n",
       "  <th>Prob(Omnibus):</th> <td> 0.000</td>  <th>  Jarque-Bera (JB):  </th> <td> 398.764</td>\n",
       "</tr>\n",
       "<tr>\n",
       "  <th>Skew:</th>          <td> 1.047</td>  <th>  Prob(JB):          </th> <td>2.57e-87</td>\n",
       "</tr>\n",
       "<tr>\n",
       "  <th>Kurtosis:</th>      <td> 6.188</td>  <th>  Cond. No.          </th> <td>4.30e+03</td>\n",
       "</tr>\n",
       "</table><br/><br/>Notes:<br/>[1] Standard Errors assume that the covariance matrix of the errors is correctly specified.<br/>[2] The condition number is large, 4.3e+03. This might indicate that there are<br/>strong multicollinearity or other numerical problems."
      ],
      "text/plain": [
       "<class 'statsmodels.iolib.summary.Summary'>\n",
       "\"\"\"\n",
       "                            OLS Regression Results                            \n",
       "==============================================================================\n",
       "Dep. Variable:                logprod   R-squared:                       0.014\n",
       "Model:                            OLS   Adj. R-squared:                  0.013\n",
       "Method:                 Least Squares   F-statistic:                     9.391\n",
       "Date:                Tue, 26 Jan 2021   Prob (F-statistic):            0.00227\n",
       "Time:                        16:24:44   Log-Likelihood:                 352.81\n",
       "No. Observations:                 658   AIC:                            -701.6\n",
       "Df Residuals:                     656   BIC:                            -692.6\n",
       "Df Model:                           1                                         \n",
       "Covariance Type:            nonrobust                                         \n",
       "==============================================================================\n",
       "                 coef    std err          t      P>|t|      [0.025      0.975]\n",
       "------------------------------------------------------------------------------\n",
       "Intercept      4.0176      0.007    609.095      0.000       4.005       4.031\n",
       "area_km2   -5.615e-06   1.83e-06     -3.065      0.002   -9.21e-06   -2.02e-06\n",
       "==============================================================================\n",
       "Omnibus:                      140.458   Durbin-Watson:                   1.265\n",
       "Prob(Omnibus):                  0.000   Jarque-Bera (JB):              398.764\n",
       "Skew:                           1.047   Prob(JB):                     2.57e-87\n",
       "Kurtosis:                       6.188   Cond. No.                     4.30e+03\n",
       "==============================================================================\n",
       "\n",
       "Notes:\n",
       "[1] Standard Errors assume that the covariance matrix of the errors is correctly specified.\n",
       "[2] The condition number is large, 4.3e+03. This might indicate that there are\n",
       "strong multicollinearity or other numerical problems.\n",
       "\"\"\""
      ]
     },
     "execution_count": 31,
     "metadata": {},
     "output_type": "execute_result"
    }
   ],
   "source": [
    "reducedform = smf.ols(\"logprod ~ area_km2\", data = maindata4).fit()\n",
    "reducedform.summary()"
   ]
  },
  {
   "cell_type": "markdown",
   "metadata": {},
   "source": [
    "Knowing that the effect is indeed there, and that it has the expected sign, I will now run the run the main regression (using White standard errors):"
   ]
  },
  {
   "cell_type": "code",
   "execution_count": 32,
   "metadata": {},
   "outputs": [
    {
     "data": {
      "text/html": [
       "<table class=\"simpletable\">\n",
       "<caption>IV-2SLS Estimation Summary</caption>\n",
       "<tr>\n",
       "  <th>Dep. Variable:</th>         <td>logprod</td>     <th>  R-squared:         </th>  <td>0.1806</td>  \n",
       "</tr>\n",
       "<tr>\n",
       "  <th>Estimator:</th>             <td>IV-2SLS</td>     <th>  Adj. R-squared:    </th>  <td>0.1718</td>  \n",
       "</tr>\n",
       "<tr>\n",
       "  <th>No. Observations:</th>        <td>658</td>       <th>  F-statistic:       </th> <td>7.802e+05</td>\n",
       "</tr>\n",
       "<tr>\n",
       "  <th>Date:</th>             <td>Tue, Jan 26 2021</td> <th>  P-value (F-stat)   </th>  <td>0.0000</td>  \n",
       "</tr>\n",
       "<tr>\n",
       "  <th>Time:</th>                 <td>16:24:44</td>     <th>  Distribution:      </th>  <td>chi2(8)</td> \n",
       "</tr>\n",
       "<tr>\n",
       "  <th>Cov. Estimator:</th>        <td>robust</td>      <th>                     </th>     <td></td>     \n",
       "</tr>\n",
       "<tr>\n",
       "  <th></th>                          <td></td>         <th>                     </th>     <td></td>     \n",
       "</tr>\n",
       "</table>\n",
       "<table class=\"simpletable\">\n",
       "<caption>Parameter Estimates</caption>\n",
       "<tr>\n",
       "         <td></td>        <th>Parameter</th> <th>Std. Err.</th> <th>T-stat</th>  <th>P-value</th> <th>Lower CI</th> <th>Upper CI</th>\n",
       "</tr>\n",
       "<tr>\n",
       "  <th>C(country)[DE]</th>  <td>8.3083</td>    <td>2.5413</td>   <td>3.2693</td>  <td>0.0011</td>   <td>3.3275</td>   <td>13.289</td> \n",
       "</tr>\n",
       "<tr>\n",
       "  <th>C(country)[ES]</th>  <td>7.8478</td>    <td>2.5451</td>   <td>3.0835</td>  <td>0.0020</td>   <td>2.8595</td>   <td>12.836</td> \n",
       "</tr>\n",
       "<tr>\n",
       "  <th>C(country)[IT]</th>  <td>8.2440</td>    <td>2.5528</td>   <td>3.2294</td>  <td>0.0012</td>   <td>3.2406</td>   <td>13.247</td> \n",
       "</tr>\n",
       "<tr>\n",
       "  <th>C(country)[UK]</th>  <td>8.0510</td>    <td>2.5089</td>   <td>3.2089</td>  <td>0.0013</td>   <td>3.1336</td>   <td>12.968</td> \n",
       "</tr>\n",
       "<tr>\n",
       "  <th>ED0_2</th>           <td>-3.7670</td>   <td>2.5736</td>   <td>-1.4637</td> <td>0.1433</td>   <td>-8.8112</td>  <td>1.2772</td> \n",
       "</tr>\n",
       "<tr>\n",
       "  <th>ED3_4</th>           <td>-4.8465</td>   <td>2.5616</td>   <td>-1.8920</td> <td>0.0585</td>   <td>-9.8672</td>  <td>0.1742</td> \n",
       "</tr>\n",
       "<tr>\n",
       "  <th>ED5_8</th>           <td>-3.3670</td>   <td>2.5237</td>   <td>-1.3341</td> <td>0.1822</td>   <td>-8.3134</td>  <td>1.5795</td> \n",
       "</tr>\n",
       "<tr>\n",
       "  <th>logdens</th>         <td>0.0092</td>    <td>0.0062</td>   <td>1.4885</td>  <td>0.1366</td>   <td>-0.0029</td>  <td>0.0213</td> \n",
       "</tr>\n",
       "</table><br/><br/>Endogenous: logdens<br/>Instruments: area_km2<br/>Robust Covariance (Heteroskedastic)<br/>Debiased: False<br/>id: 0x1ed42857bb0"
      ],
      "text/plain": [
       "                          IV-2SLS Estimation Summary                          \n",
       "==============================================================================\n",
       "Dep. Variable:                logprod   R-squared:                      0.1806\n",
       "Estimator:                    IV-2SLS   Adj. R-squared:                 0.1718\n",
       "No. Observations:                 658   F-statistic:                 7.802e+05\n",
       "Date:                Tue, Jan 26 2021   P-value (F-stat)                0.0000\n",
       "Time:                        16:24:44   Distribution:                  chi2(8)\n",
       "Cov. Estimator:                robust                                         \n",
       "                                                                              \n",
       "                               Parameter Estimates                                \n",
       "==================================================================================\n",
       "                Parameter  Std. Err.     T-stat    P-value    Lower CI    Upper CI\n",
       "----------------------------------------------------------------------------------\n",
       "C(country)[DE]     8.3083     2.5413     3.2693     0.0011      3.3275      13.289\n",
       "C(country)[ES]     7.8478     2.5451     3.0835     0.0020      2.8595      12.836\n",
       "C(country)[IT]     8.2440     2.5528     3.2294     0.0012      3.2406      13.247\n",
       "C(country)[UK]     8.0510     2.5089     3.2089     0.0013      3.1336      12.968\n",
       "ED0_2             -3.7670     2.5736    -1.4637     0.1433     -8.8112      1.2772\n",
       "ED3_4             -4.8465     2.5616    -1.8920     0.0585     -9.8672      0.1742\n",
       "ED5_8             -3.3670     2.5237    -1.3341     0.1822     -8.3134      1.5795\n",
       "logdens            0.0092     0.0062     1.4885     0.1366     -0.0029      0.0213\n",
       "==================================================================================\n",
       "\n",
       "Endogenous: logdens\n",
       "Instruments: area_km2\n",
       "Robust Covariance (Heteroskedastic)\n",
       "Debiased: False\n",
       "IVResults, id: 0x1ed42857bb0"
      ]
     },
     "execution_count": 32,
     "metadata": {},
     "output_type": "execute_result"
    }
   ],
   "source": [
    "iv1 = IV2SLS.from_formula(\"logprod ~ ED0_2 + ED3_4 + ED5_8 + C(country) + [logdens ~ area_km2]\",\n",
    "                          data = maindata4).fit(cov_type = \"robust\")\n",
    "\n",
    "#extract the confidence interval for later use\n",
    "confint1 = iv1.conf_int()\n",
    "\n",
    "iv1"
   ]
  },
  {
   "cell_type": "markdown",
   "metadata": {},
   "source": [
    "# Sensitivity analysis\n",
    "\n",
    "As a first sensitivity check, I will respecify the model, but with NUTS-2 fixed effects instead of country-level fixed effects. Since the education data is at the NUTS-2 level as well, they can be omitted in this specification."
   ]
  },
  {
   "cell_type": "code",
   "execution_count": 33,
   "metadata": {
    "nbgrader": {
     "checksum": "3dd4c02198f7b81f943268cb3d0a12b2",
     "grade": true,
     "grade_id": "cell-a2231ee7e6d4e686",
     "locked": false,
     "points": 7,
     "schema_version": 1,
     "solution": true
    }
   },
   "outputs": [],
   "source": [
    "iv2 = IV2SLS.from_formula(\"logprod ~ C(NUTS2) + [logdens ~ area_km2]\",\n",
    "                         data = maindata4).fit(cov_type = \"robust\")\n",
    "\n",
    "#again extract the confidence intervals\n",
    "confint2 = iv2.conf_int()"
   ]
  },
  {
   "cell_type": "markdown",
   "metadata": {},
   "source": [
    "My second sensitivity check will be to re-run the main IV regression, but with all productivity and density outliers removed. This reduces the number of observations to 640."
   ]
  },
  {
   "cell_type": "code",
   "execution_count": 34,
   "metadata": {},
   "outputs": [],
   "source": [
    "#define cutoff thresholds for outliers\n",
    "prod_upper = maindata4[\"logprod\"].quantile(0.75) + 1.5*(maindata4[\"logprod\"].quantile(0.75) - maindata4[\"logprod\"].quantile(0.25))\n",
    "dens_upper = maindata4[\"logdens\"].quantile(0.75) + 1.5*(maindata4[\"logdens\"].quantile(0.75) - maindata4[\"logdens\"].quantile(0.25))\n",
    "prod_lower = maindata4[\"logprod\"].quantile(0.25) - 1.5*(maindata4[\"logprod\"].quantile(0.75) - maindata4[\"logprod\"].quantile(0.25))\n",
    "dens_lower = maindata4[\"logdens\"].quantile(0.25) - 1.5*(maindata4[\"logdens\"].quantile(0.75) - maindata4[\"logdens\"].quantile(0.25))\n",
    "\n",
    "#filter outliers\n",
    "no_outliers = maindata4[maindata4[\"logprod\"] < prod_upper]\n",
    "no_outliers = no_outliers[no_outliers[\"logprod\"] > prod_lower]\n",
    "no_outliers = no_outliers[no_outliers[\"logdens\"] < dens_upper]\n",
    "no_outliers = no_outliers[no_outliers[\"logdens\"] > dens_lower]\n",
    "\n",
    "#rerun regression\n",
    "iv3 = IV2SLS.from_formula(\"logprod ~ ED0_2 + ED3_4 + ED5_8 + C(country) + [logdens ~ area_km2]\",\n",
    "                          data = no_outliers).fit(cov_type = \"robust\")\n",
    "\n",
    "#extract confint\n",
    "confint3 = iv3.conf_int()"
   ]
  },
  {
   "cell_type": "markdown",
   "metadata": {},
   "source": [
    "Below, I plot the 3 different confidence intervals, along with the confidence interval from the original paper. I use code adapted from [this](https://stackoverflow.com/a/63262037) stackoverflow answer."
   ]
  },
  {
   "cell_type": "code",
   "execution_count": 35,
   "metadata": {},
   "outputs": [
    {
     "data": {
      "text/plain": [
       "Text(0.5, 1.0, 'Confidence intervals')"
      ]
     },
     "execution_count": 35,
     "metadata": {},
     "output_type": "execute_result"
    },
    {
     "data": {
      "image/png": "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\n",
      "text/plain": [
       "<Figure size 432x288 with 1 Axes>"
      ]
     },
     "metadata": {
      "needs_background": "light"
     },
     "output_type": "display_data"
    }
   ],
   "source": [
    "#Define the confidence interval found by the original paper\n",
    "ciccone_upper = 0.0455 + 2*0.00507\n",
    "ciccone_lower = 0.0455 - 2*0.00507\n",
    "\n",
    "ci_dict = {}\n",
    "ci_dict['category'] = ['main','NUTS2 dummies','no outliers', \"ciccone 2002\"]\n",
    "ci_dict['lower'] = [confint1.iloc[-1,1], confint2.iloc[-1,1], confint3.iloc[-1,1], ciccone_lower]\n",
    "ci_dict['upper'] = [confint1.iloc[-1,0], confint2.iloc[-1,0], confint3.iloc[-1,0], ciccone_upper]\n",
    "cis = pd.DataFrame(ci_dict)\n",
    "\n",
    "for lower,upper,y in zip(cis['lower'],cis['upper'],range(len(cis))):\n",
    "    plt.plot((lower,upper),(y,y),'ro-',color = \"blue\")\n",
    "plt.yticks(range(len(cis)),list(cis['category']))\n",
    "plt.title(\"Confidence intervals\")"
   ]
  },
  {
   "cell_type": "markdown",
   "metadata": {},
   "source": [
    "Clearly, my estimates are different from those in the orginal paper, no matter the specification."
   ]
  },
  {
   "cell_type": "markdown",
   "metadata": {},
   "source": [
    "# Discussion and conclusion\n"
   ]
  },
  {
   "cell_type": "markdown",
   "metadata": {
    "deletable": false,
    "nbgrader": {
     "checksum": "52e1cf5783dd1971d265a8ea172e297a",
     "grade": true,
     "grade_id": "cell-4b5c9f698b295ad7",
     "locked": false,
     "points": 0.5,
     "schema_version": 1,
     "solution": true
    }
   },
   "source": [
    "In conclusion, my replication indicates that net agglomeration effects could be a lot lower than estimated in Ciccone (2002), and does not even conclusively reject the null hypothesis. There are several possible explanations for this. The first is simply that the exlcusion of French regions from the data is what causes the difference. After all, France is a country known for having a small number of prosperous metropolitan areas and rural areas that do poorly by comparison. Another explanation is that something has changed structurally within the European economy over the past 30 years, reducing the strength of agglomeration effects. Since the estimate measures net agglomeration, this could also be driven by things like a structural increase in congestion externalities.\n",
    "\n",
    "Finally, we have no reason to expect the local elasticity of productivity to be constant along all possible densities. It could be that, if there is a different density spread now than there was 30 years ago, that drives the difference in estimates. If this is true, it is a very intuitive explanation: employers cluster to take advantage of agglomeration effects, and they stop this \"arbitrage\" once the net effects approach zero.\n",
    "\n",
    "There are several ways to improve this project in later versions. The first, and most obvious one, is to find employment data for France and include it in the analysis. A second way is to find better data on education, such that it can be controlled for at the NUTS-3 level instead of at the NUTS-2 level. A final way is to control for spillover effects, like in the original paper. However, this had a negligible impact and I could not find an easy way to implement it."
   ]
  },
  {
   "cell_type": "markdown",
   "metadata": {},
   "source": [
    "# Bibliography\n",
    "\n",
    "* Bartels, C.; Jaeger, S.; Obergruber, N. (2020). Long-Term Effects of Equal Sharing: Evidence from Inheritance Rules for Land. NBER Working Paper No. w28230.\n",
    "* Ciccone, A. (2002). Agglomeration effects in Europe. *European Economic Review* 46, 213-227.  https://doi.org/10.1016/S0014-2921(00)00099-4\n",
    "* Dell, M. (2010). The Persistent Effects of Peru's Mining *Mita*. *Econometrica* 78(6), 1862-1903.  https://doi.org/10.3982/ECTA8121\n",
    "* Dorosh, P.; Thurlow, J. (2014). Can Cities or Towns Drive African Development? Economywide Analysis for Ethiopia and Uganda. *World Development* (63), 113-123.  https://doi.org/10.1016/j.worlddev.2013.10.014\n",
    "* Jedwad, R.; Vollrath, D. (2015). Urbanization without growth in historical perspective. *Explorations in Economic History* (58C), 1-21.  https://doi.org/10.1016/j.eeh.2015.09.002\n",
    "* Rosenthal, S.; Strange, W. (2004). Evidence on the Nature and Sources of Agglomeration Economies. *Handbook of Regional and Urban Economics* (4), 2119-2171.  https://doi.org/10.1016/S1574-0080(04)80006-3"
   ]
  }
 ],
 "metadata": {
  "kernelspec": {
   "display_name": "Python 3",
   "language": "python",
   "name": "python3"
  },
  "language_info": {
   "codemirror_mode": {
    "name": "ipython",
    "version": 3
   },
   "file_extension": ".py",
   "mimetype": "text/x-python",
   "name": "python",
   "nbconvert_exporter": "python",
   "pygments_lexer": "ipython3",
   "version": "3.9.1"
  },
  "toc": {
   "base_numbering": 1,
   "nav_menu": {},
   "number_sections": true,
   "sideBar": true,
   "skip_h1_title": false,
   "title_cell": "Table of Contents",
   "title_sidebar": "Contents",
   "toc_cell": false,
   "toc_position": {},
   "toc_section_display": true,
   "toc_window_display": true
  }
 },
 "nbformat": 4,
 "nbformat_minor": 4
}
